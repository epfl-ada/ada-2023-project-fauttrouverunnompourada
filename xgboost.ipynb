{
 "cells": [
  {
   "cell_type": "markdown",
   "metadata": {},
   "source": [
    "Import libraries"
   ]
  },
  {
   "cell_type": "code",
   "execution_count": 1033,
   "metadata": {},
   "outputs": [],
   "source": [
    "import pandas as pd\n",
    "import xgboost as xgb\n",
    "from sklearn.model_selection import train_test_split\n",
    "from sklearn.metrics import mean_squared_error\n",
    "import math\n",
    "import numpy as np\n",
    "from xgboost import plot_importance\n",
    "from hyperopt import STATUS_OK, Trials, fmin, hp, tpe\n",
    "from sklearn.model_selection import cross_val_score, KFold\n",
    "from sklearn.ensemble import RandomForestRegressor, GradientBoostingRegressor\n",
    "import joblib"
   ]
  },
  {
   "cell_type": "markdown",
   "metadata": {},
   "source": [
    "Import files"
   ]
  },
  {
   "cell_type": "code",
   "execution_count": 1034,
   "metadata": {},
   "outputs": [
    {
     "name": "stdout",
     "output_type": "stream",
     "text": [
      "['Wiki ID', 'Freebase ID_x', 'Movie name', 'Release date_x', 'Revenue', 'Runtime', 'IMDb rating', 'Wins', 'Nominations', 'Release year_x', 'Languages', 'Genres', 'Countries', 'United States of America-onehot', 'United Kingdom-onehot', 'India-onehot', 'Canada-onehot', 'Germany-onehot', 'Japan-onehot', 'South Korea-onehot', 'Argentina-onehot', 'France-onehot', 'United Kingodm-onehot', 'Spain-onehot', 'Ireland-onehot', 'Hong Kong-onehot', 'China-onehot', 'Russia-onehot', 'Australia-onehot', 'Italy-onehot', 'Mexico-onehot', 'New Zealand-onehot', 'Brazil-onehot', 'Belgium-onehot', 'Denmark-onehot', 'Sweden-onehot', 'Netherlands-onehot', 'Philippines-onehot', 'Thriller-onehot', 'Science Fiction-onehot', 'Horror-onehot', 'Adventure-onehot', 'Action-onehot', 'Drama-onehot', 'Comedy-onehot', 'Romance Film-onehot', 'Musical-onehot', 'Fantasy-onehot', 'Family Film-onehot', 'Crime Fiction-onehot', 'Indie-onehot', 'World cinema-onehot', 'Mystery-onehot', 'Black-and-white-onehot', 'Crime Thriller-onehot', 'Freebase ID_y', 'Release date_y', 'Character name_x', 'Actor DOB_x', 'Actor gender_x', 'Actor height_x', 'Actor ethnicity_x', 'Actor name_x', 'Actor age at release_x', 'Map ID_x', 'Character ID_x', 'Actor ID_x', 'Role_x', 'Year_x', 'Release year_y', 'Actor birth year_x', 'F-onehot_x', 'M-onehot_x', 'White_x', 'Black/African American_x', 'South Asian_x', 'East Asian_x', 'American Indian/Alaska Native_x', 'Pacific Islander_x', 'Other_x', 'Freebase ID', 'Release date', 'Character name_y', 'Actor DOB_y', 'Actor gender_y', 'Actor height_y', 'Actor ethnicity_y', 'Actor name_y', 'Actor age at release_y', 'Map ID_y', 'Character ID_y', 'Actor ID_y', 'Role_y', 'Year_y', 'Release year', 'Actor birth year_y', 'F-onehot_y', 'M-onehot_y', 'White_y', 'Black/African American_y', 'South Asian_y', 'East Asian_y', 'American Indian/Alaska Native_y', 'Pacific Islander_y', 'Other_y']\n"
     ]
    }
   ],
   "source": [
    "characters = pd.read_csv(\"../Clean data/clean_character_data.csv\")\n",
    "movies = pd.read_csv(\"../Clean data/clean_movie_data.csv\")\n",
    "inputs = pd.read_csv(\"../Clean data/inputs.csv\")\n",
    "\n",
    "column_names = list(inputs.columns)\n",
    "print(column_names)"
   ]
  },
  {
   "cell_type": "markdown",
   "metadata": {},
   "source": [
    "Quick look at inputs"
   ]
  },
  {
   "cell_type": "code",
   "execution_count": 1035,
   "metadata": {},
   "outputs": [
    {
     "data": {
      "text/html": [
       "<div>\n",
       "<style scoped>\n",
       "    .dataframe tbody tr th:only-of-type {\n",
       "        vertical-align: middle;\n",
       "    }\n",
       "\n",
       "    .dataframe tbody tr th {\n",
       "        vertical-align: top;\n",
       "    }\n",
       "\n",
       "    .dataframe thead th {\n",
       "        text-align: right;\n",
       "    }\n",
       "</style>\n",
       "<table border=\"1\" class=\"dataframe\">\n",
       "  <thead>\n",
       "    <tr style=\"text-align: right;\">\n",
       "      <th></th>\n",
       "      <th>Wiki ID</th>\n",
       "      <th>Freebase ID_x</th>\n",
       "      <th>Movie name</th>\n",
       "      <th>Release date_x</th>\n",
       "      <th>Revenue</th>\n",
       "      <th>Runtime</th>\n",
       "      <th>IMDb rating</th>\n",
       "      <th>Wins</th>\n",
       "      <th>Nominations</th>\n",
       "      <th>Release year_x</th>\n",
       "      <th>...</th>\n",
       "      <th>Actor birth year_y</th>\n",
       "      <th>F-onehot_y</th>\n",
       "      <th>M-onehot_y</th>\n",
       "      <th>White_y</th>\n",
       "      <th>Black/African American_y</th>\n",
       "      <th>South Asian_y</th>\n",
       "      <th>East Asian_y</th>\n",
       "      <th>American Indian/Alaska Native_y</th>\n",
       "      <th>Pacific Islander_y</th>\n",
       "      <th>Other_y</th>\n",
       "    </tr>\n",
       "  </thead>\n",
       "  <tbody>\n",
       "    <tr>\n",
       "      <th>0</th>\n",
       "      <td>975900</td>\n",
       "      <td>/m/03vyhn</td>\n",
       "      <td>Ghosts of Mars</td>\n",
       "      <td>2001-08-24</td>\n",
       "      <td>2.315268e+07</td>\n",
       "      <td>98.0</td>\n",
       "      <td>4.9</td>\n",
       "      <td>NaN</td>\n",
       "      <td>2.0</td>\n",
       "      <td>2001</td>\n",
       "      <td>...</td>\n",
       "      <td>1969.0</td>\n",
       "      <td>0.0</td>\n",
       "      <td>1.0</td>\n",
       "      <td>0</td>\n",
       "      <td>1</td>\n",
       "      <td>0</td>\n",
       "      <td>0</td>\n",
       "      <td>0</td>\n",
       "      <td>0</td>\n",
       "      <td>0</td>\n",
       "    </tr>\n",
       "    <tr>\n",
       "      <th>1</th>\n",
       "      <td>6631279</td>\n",
       "      <td>/m/0gffwj</td>\n",
       "      <td>Little city</td>\n",
       "      <td>1997-04-04</td>\n",
       "      <td>NaN</td>\n",
       "      <td>93.0</td>\n",
       "      <td>5.8</td>\n",
       "      <td>NaN</td>\n",
       "      <td>NaN</td>\n",
       "      <td>1997</td>\n",
       "      <td>...</td>\n",
       "      <td>1964.0</td>\n",
       "      <td>1.0</td>\n",
       "      <td>0.0</td>\n",
       "      <td>0</td>\n",
       "      <td>0</td>\n",
       "      <td>0</td>\n",
       "      <td>0</td>\n",
       "      <td>0</td>\n",
       "      <td>0</td>\n",
       "      <td>1</td>\n",
       "    </tr>\n",
       "    <tr>\n",
       "      <th>2</th>\n",
       "      <td>171005</td>\n",
       "      <td>/m/016ywb</td>\n",
       "      <td>Henry V</td>\n",
       "      <td>1989-11-08</td>\n",
       "      <td>2.398142e+07</td>\n",
       "      <td>137.0</td>\n",
       "      <td>7.5</td>\n",
       "      <td>12.0</td>\n",
       "      <td>13.0</td>\n",
       "      <td>1989</td>\n",
       "      <td>...</td>\n",
       "      <td>1959.0</td>\n",
       "      <td>1.0</td>\n",
       "      <td>0.0</td>\n",
       "      <td>1</td>\n",
       "      <td>0</td>\n",
       "      <td>0</td>\n",
       "      <td>0</td>\n",
       "      <td>0</td>\n",
       "      <td>0</td>\n",
       "      <td>0</td>\n",
       "    </tr>\n",
       "    <tr>\n",
       "      <th>3</th>\n",
       "      <td>77856</td>\n",
       "      <td>/m/0kcn7</td>\n",
       "      <td>Mary Poppins</td>\n",
       "      <td>1964-08-27</td>\n",
       "      <td>9.655040e+08</td>\n",
       "      <td>139.0</td>\n",
       "      <td>7.8</td>\n",
       "      <td>22.0</td>\n",
       "      <td>17.0</td>\n",
       "      <td>1964</td>\n",
       "      <td>...</td>\n",
       "      <td>1917.0</td>\n",
       "      <td>0.0</td>\n",
       "      <td>1.0</td>\n",
       "      <td>0</td>\n",
       "      <td>0</td>\n",
       "      <td>0</td>\n",
       "      <td>0</td>\n",
       "      <td>0</td>\n",
       "      <td>0</td>\n",
       "      <td>1</td>\n",
       "    </tr>\n",
       "    <tr>\n",
       "      <th>4</th>\n",
       "      <td>156558</td>\n",
       "      <td>/m/014k4y</td>\n",
       "      <td>Baby Boy</td>\n",
       "      <td>2001-06-27</td>\n",
       "      <td>4.855272e+07</td>\n",
       "      <td>123.0</td>\n",
       "      <td>6.4</td>\n",
       "      <td>1.0</td>\n",
       "      <td>14.0</td>\n",
       "      <td>2001</td>\n",
       "      <td>...</td>\n",
       "      <td>1970.0</td>\n",
       "      <td>1.0</td>\n",
       "      <td>0.0</td>\n",
       "      <td>0</td>\n",
       "      <td>1</td>\n",
       "      <td>0</td>\n",
       "      <td>0</td>\n",
       "      <td>0</td>\n",
       "      <td>0</td>\n",
       "      <td>0</td>\n",
       "    </tr>\n",
       "  </tbody>\n",
       "</table>\n",
       "<p>5 rows × 105 columns</p>\n",
       "</div>"
      ],
      "text/plain": [
       "   Wiki ID Freebase ID_x      Movie name Release date_x       Revenue  \\\n",
       "0   975900     /m/03vyhn  Ghosts of Mars     2001-08-24  2.315268e+07   \n",
       "1  6631279     /m/0gffwj     Little city     1997-04-04           NaN   \n",
       "2   171005     /m/016ywb         Henry V     1989-11-08  2.398142e+07   \n",
       "3    77856      /m/0kcn7    Mary Poppins     1964-08-27  9.655040e+08   \n",
       "4   156558     /m/014k4y        Baby Boy     2001-06-27  4.855272e+07   \n",
       "\n",
       "   Runtime  IMDb rating  Wins  Nominations  Release year_x  ...  \\\n",
       "0     98.0          4.9   NaN          2.0            2001  ...   \n",
       "1     93.0          5.8   NaN          NaN            1997  ...   \n",
       "2    137.0          7.5  12.0         13.0            1989  ...   \n",
       "3    139.0          7.8  22.0         17.0            1964  ...   \n",
       "4    123.0          6.4   1.0         14.0            2001  ...   \n",
       "\n",
       "  Actor birth year_y F-onehot_y M-onehot_y  White_y  Black/African American_y  \\\n",
       "0             1969.0        0.0        1.0        0                         1   \n",
       "1             1964.0        1.0        0.0        0                         0   \n",
       "2             1959.0        1.0        0.0        1                         0   \n",
       "3             1917.0        0.0        1.0        0                         0   \n",
       "4             1970.0        1.0        0.0        0                         1   \n",
       "\n",
       "   South Asian_y  East Asian_y  American Indian/Alaska Native_y  \\\n",
       "0              0             0                                0   \n",
       "1              0             0                                0   \n",
       "2              0             0                                0   \n",
       "3              0             0                                0   \n",
       "4              0             0                                0   \n",
       "\n",
       "   Pacific Islander_y  Other_y  \n",
       "0                   0        0  \n",
       "1                   0        1  \n",
       "2                   0        0  \n",
       "3                   0        1  \n",
       "4                   0        0  \n",
       "\n",
       "[5 rows x 105 columns]"
      ]
     },
     "execution_count": 1035,
     "metadata": {},
     "output_type": "execute_result"
    }
   ],
   "source": [
    "inputs.head()"
   ]
  },
  {
   "cell_type": "code",
   "execution_count": 1036,
   "metadata": {},
   "outputs": [
    {
     "data": {
      "text/plain": [
       "(10918, 105)"
      ]
     },
     "execution_count": 1036,
     "metadata": {},
     "output_type": "execute_result"
    }
   ],
   "source": [
    "inputs.shape"
   ]
  },
  {
   "cell_type": "code",
   "execution_count": 1037,
   "metadata": {},
   "outputs": [
    {
     "name": "stdout",
     "output_type": "stream",
     "text": [
      "Maximum Revenue: 9522959437.465649\n",
      "Minimum Revenue: 336.5110586513585\n"
     ]
    }
   ],
   "source": [
    "# Assuming 'Revenues' is the column in your DataFrame 'df'\n",
    "max_revenue = inputs['Revenue'].max()\n",
    "min_revenue = inputs['Revenue'].min()\n",
    "\n",
    "print(\"Maximum Revenue:\", max_revenue)\n",
    "print(\"Minimum Revenue:\", min_revenue)\n"
   ]
  },
  {
   "cell_type": "code",
   "execution_count": 1038,
   "metadata": {},
   "outputs": [],
   "source": [
    "# DataFrame with revenues higher than 1,000,000,000\n",
    "high_revenue_df = inputs[inputs['Revenue'] > 1000000000]\n",
    "\n",
    "# DataFrame with revenues lower than 1,000\n",
    "low_revenue_df = inputs[inputs['Revenue'] < 1000000]"
   ]
  },
  {
   "cell_type": "code",
   "execution_count": 1039,
   "metadata": {},
   "outputs": [
    {
     "data": {
      "text/plain": [
       "(99, 105)"
      ]
     },
     "execution_count": 1039,
     "metadata": {},
     "output_type": "execute_result"
    }
   ],
   "source": [
    "high_revenue_df.shape"
   ]
  },
  {
   "cell_type": "code",
   "execution_count": 1040,
   "metadata": {},
   "outputs": [
    {
     "data": {
      "text/plain": [
       "(952, 105)"
      ]
     },
     "execution_count": 1040,
     "metadata": {},
     "output_type": "execute_result"
    }
   ],
   "source": [
    "low_revenue_df.shape"
   ]
  },
  {
   "cell_type": "markdown",
   "metadata": {},
   "source": [
    "All inputs analysis"
   ]
  },
  {
   "cell_type": "code",
   "execution_count": 1041,
   "metadata": {},
   "outputs": [
    {
     "data": {
      "image/png": "[encoded data removed]",
      "text/plain": [
       "<Figure size 864x864 with 4 Axes>"
      ]
     },
     "metadata": {
      "needs_background": "light"
     },
     "output_type": "display_data"
    }
   ],
   "source": [
    "import matplotlib.pyplot as plt\n",
    "import numpy as np\n",
    "\n",
    "# Assuming 'Revenues' and 'IMDb_Rating' are columns in your DataFrame 'df'\n",
    "revenues = inputs['Revenue']\n",
    "imdb_ratings = inputs['IMDb rating']\n",
    "\n",
    "# Create subplots with 2 rows and 2 columns\n",
    "fig, axes = plt.subplots(2, 2, figsize=(12, 12))\n",
    "\n",
    "# Plot for Revenue\n",
    "axes[0, 0].hist(revenues, bins=30, alpha=0.7, color='blue')\n",
    "axes[0, 0].set_title('Distribution of Revenue')\n",
    "axes[0, 0].set_xlabel('Revenue')\n",
    "axes[0, 0].set_ylabel('Frequency')\n",
    "axes[0, 0].grid(True)\n",
    "\n",
    "# Plot for IMDb Rating\n",
    "axes[0, 1].hist(imdb_ratings, bins=30, alpha=0.7, color='green')\n",
    "axes[0, 1].set_title('Distribution of IMDb Rating')\n",
    "axes[0, 1].set_xlabel('IMDb Rating')\n",
    "axes[0, 1].set_ylabel('Frequency')\n",
    "axes[0, 1].grid(True)\n",
    "\n",
    "# Plot for log-transformed Revenue\n",
    "axes[1, 0].hist(np.log10(revenues), bins=30, alpha=0.7, color='orange')\n",
    "axes[1, 0].set_title('Distribution of log(Revenue)')\n",
    "axes[1, 0].set_xlabel('log(Revenue)')\n",
    "axes[1, 0].set_ylabel('Frequency')\n",
    "axes[1, 0].grid(True)\n",
    "\n",
    "# Plot for log-transformed IMDb Rating\n",
    "axes[1, 1].hist(np.log10(imdb_ratings), bins=30, alpha=0.7, color='purple')\n",
    "axes[1, 1].set_title('Distribution of log(IMDb Rating)')\n",
    "axes[1, 1].set_xlabel('log(IMDb Rating)')\n",
    "axes[1, 1].set_ylabel('Frequency')\n",
    "axes[1, 1].grid(True)\n",
    "\n",
    "plt.tight_layout()  # Adjusts the spacing between plots\n",
    "plt.show()\n"
   ]
  },
  {
   "cell_type": "markdown",
   "metadata": {},
   "source": [
    "Tail-cut inputs analysis"
   ]
  },
  {
   "cell_type": "code",
   "execution_count": 1042,
   "metadata": {},
   "outputs": [],
   "source": [
    "min_revenue_threshold = 100000  # Set your minimum revenue threshold\n",
    "max_revenue_threshold = 1000000000  # Set your maximum revenue threshold\n",
    "\n",
    "filtered_revenues_inputs = inputs[(inputs['Revenue'] > min_revenue_threshold) & (inputs['Revenue'] < max_revenue_threshold)]"
   ]
  },
  {
   "cell_type": "code",
   "execution_count": 1043,
   "metadata": {},
   "outputs": [
    {
     "data": {
      "image/png": "[encoded data removed]",
      "text/plain": [
       "<Figure size 864x864 with 4 Axes>"
      ]
     },
     "metadata": {
      "needs_background": "light"
     },
     "output_type": "display_data"
    }
   ],
   "source": [
    "import matplotlib.pyplot as plt\n",
    "import numpy as np\n",
    "\n",
    "# Assuming 'Revenues' and 'IMDb_Rating' are columns in your DataFrame 'df'\n",
    "revenues = filtered_revenues_inputs['Revenue']\n",
    "imdb_ratings = filtered_revenues_inputs['IMDb rating']\n",
    "\n",
    "# Create subplots with 2 rows and 2 columns\n",
    "fig, axes = plt.subplots(2, 2, figsize=(12, 12))\n",
    "\n",
    "# Plot for Revenue\n",
    "axes[0, 0].hist(revenues, bins=30, alpha=0.7, color='blue')\n",
    "axes[0, 0].set_title('Distribution of Revenue')\n",
    "axes[0, 0].set_xlabel('Revenue')\n",
    "axes[0, 0].set_ylabel('Frequency')\n",
    "axes[0, 0].grid(True)\n",
    "\n",
    "# Plot for IMDb Rating\n",
    "axes[0, 1].hist(imdb_ratings, bins=30, alpha=0.7, color='green')\n",
    "axes[0, 1].set_title('Distribution of IMDb Rating')\n",
    "axes[0, 1].set_xlabel('IMDb Rating')\n",
    "axes[0, 1].set_ylabel('Frequency')\n",
    "axes[0, 1].grid(True)\n",
    "\n",
    "# Plot for log-transformed Revenue\n",
    "axes[1, 0].hist(np.log10(revenues), bins=30, alpha=0.7, color='orange')\n",
    "axes[1, 0].set_title('Distribution of log(Revenue)')\n",
    "axes[1, 0].set_xlabel('log(Revenue)')\n",
    "axes[1, 0].set_ylabel('Frequency')\n",
    "axes[1, 0].grid(True)\n",
    "\n",
    "# Plot for log-transformed IMDb Rating\n",
    "axes[1, 1].hist(np.log10(imdb_ratings), bins=30, alpha=0.7, color='purple')\n",
    "axes[1, 1].set_title('Distribution of log(IMDb Rating)')\n",
    "axes[1, 1].set_xlabel('log(IMDb Rating)')\n",
    "axes[1, 1].set_ylabel('Frequency')\n",
    "axes[1, 1].grid(True)\n",
    "\n",
    "plt.tight_layout()  # Adjusts the spacing between plots\n",
    "plt.show()\n"
   ]
  },
  {
   "cell_type": "markdown",
   "metadata": {},
   "source": [
    "Modelling functions"
   ]
  },
  {
   "cell_type": "code",
   "execution_count": 1044,
   "metadata": {},
   "outputs": [],
   "source": [
    "def feat_and_target_revenue(data):\n",
    "    feature = data.drop(['Revenue', 'IMDb rating'], axis = 1)\n",
    "    target = np.log10(data['Revenue'])\n",
    "\n",
    "    return feature, target"
   ]
  },
  {
   "cell_type": "code",
   "execution_count": 1045,
   "metadata": {},
   "outputs": [],
   "source": [
    "def feat_and_target_critics(data):\n",
    "    feature = data.drop(['IMDb rating', 'Revenue'], axis = 1)\n",
    "    target = (data['IMDb rating'])\n",
    "\n",
    "    return feature, target"
   ]
  },
  {
   "cell_type": "code",
   "execution_count": 1046,
   "metadata": {},
   "outputs": [],
   "source": [
    "def data_splitting(feature, target):\n",
    "    #Returns x_train, x_test, y_train, y_test\n",
    "    return train_test_split(feature, target, test_size=0.2, random_state=42) "
   ]
  },
  {
   "cell_type": "code",
   "execution_count": 1047,
   "metadata": {},
   "outputs": [],
   "source": [
    "def fit_model_revenue(model_name, xtrain, xtest, ytrain, ytest):\n",
    "    if model_name == 'RandomForest':\n",
    "        model = RandomForestRegressor(\n",
    "    max_depth=13,\n",
    "    max_features=0.5044385141334264,\n",
    "    min_samples_leaf=4,\n",
    "    min_samples_split=15,\n",
    "    n_estimators=140,\n",
    "    random_state=42\n",
    ")  # Adjust parameters as needed\n",
    "    elif model_name == 'XGB':\n",
    "        model = xgb.XGBRegressor(\n",
    "    objective='reg:squarederror',\n",
    "    colsample_bytree = 0.5382140919340437, \n",
    "    gamma = 1.0628444205682614,\n",
    "    max_depth = 7, \n",
    "    min_child_weight = 1, \n",
    "    n_estimators = 70, \n",
    "    reg_alpha = 40\n",
    ")\n",
    "    elif model_name == 'GBM':\n",
    "        model = GradientBoostingRegressor(\n",
    "    learning_rate=0.048040737541705625,\n",
    "    max_depth=4,\n",
    "    min_samples_leaf=8,\n",
    "    min_samples_split=5,\n",
    "    n_estimators=200,\n",
    "    subsample=0.7977456176958748,\n",
    "    random_state=42\n",
    ")\n",
    "\n",
    "    else:\n",
    "        print(\"Invalid model name.\")\n",
    "        return\n",
    "    \n",
    "    model.fit(xtrain, ytrain)\n",
    "    ypred = model.predict(xtest)\n",
    "    mse = mean_squared_error(ytest, ypred)\n",
    "    print(\"RMSE:\", math.sqrt(mse))\n",
    "    variance = ytest.std()\n",
    "    print(\"Std:\", variance)\n",
    "    errors = abs(ytest - ypred)\n",
    "    mean_error = np.mean(errors)\n",
    "    print(\"Mean Absolut Error:\", mean_error)\n",
    "\n",
    "    if model_name == 'XGBoost':\n",
    "        plot_importance(model, max_num_features=30)  # This function is specific to XGBoost\n",
    "    else:\n",
    "        # Plotting histograms for RandomForest and GBM\n",
    "        fig, axes = plt.subplots(1, 2, figsize=(12, 6))\n",
    "        axes[0].hist(ypred, bins=30, alpha=0.7, color='blue')\n",
    "        axes[0].set_title('Distribution of Predictions')\n",
    "        axes[0].set_xlabel('Predictions')\n",
    "        axes[0].set_ylabel('Frequency')\n",
    "        axes[0].grid(True)\n",
    "\n",
    "        axes[1].hist(ytest, bins=30, alpha=0.7, color='red')\n",
    "        axes[1].set_title('Actual Values')\n",
    "        axes[1].set_xlabel('Values')\n",
    "        axes[1].set_ylabel('Frequency')\n",
    "        axes[1].grid(True)\n",
    "\n",
    "        plt.tight_layout()\n",
    "        plt.show()\n",
    "\n",
    "    if model_name in ['RandomForest', 'XGB', 'GBM']:\n",
    "        joblib.dump(model, f'{model_name}_revenue_model.pkl')\n",
    "        print(f\"{model_name} model trained and saved.\")\n",
    "\n"
   ]
  },
  {
   "cell_type": "code",
   "execution_count": 1048,
   "metadata": {},
   "outputs": [],
   "source": [
    "def fit_model_critics(model_name, xtrain, xtest, ytrain, ytest):\n",
    "    if model_name == 'RandomForest':\n",
    "        model = RandomForestRegressor(\n",
    "    max_depth=17,\n",
    "    max_features=0.5013884710633058,\n",
    "    min_samples_leaf=9,\n",
    "    min_samples_split=14,\n",
    "    n_estimators=110,\n",
    "    random_state=42\n",
    ")  # Adjust parameters as needed\n",
    "    elif model_name == 'XGB':\n",
    "        model = xgb.XGBRegressor(\n",
    "    objective='reg:squarederror',\n",
    "    colsample_bytree = 0.8040762773750969, \n",
    "    gamma = 0.014551544273050691,\n",
    "    max_depth = 7, \n",
    "    min_child_weight = 1.8067173676269164, \n",
    "    n_estimators = 200, \n",
    "    reg_alpha = 0.28332090854937586\n",
    ") \n",
    "    elif model_name == 'GBM':\n",
    "        model = GradientBoostingRegressor(\n",
    "    learning_rate=0.058359413134240305,\n",
    "    max_depth=4,\n",
    "    min_samples_leaf=10,\n",
    "    min_samples_split=2,\n",
    "    n_estimators=150,\n",
    "    subsample=0.6268043574324423,\n",
    "    random_state=42\n",
    ") \n",
    "    else:\n",
    "        print(\"Invalid model name.\")\n",
    "        return\n",
    "    \n",
    "    model.fit(xtrain, ytrain)\n",
    "    ypred = model.predict(xtest)\n",
    "    mse = mean_squared_error(ytest, ypred)\n",
    "    print(\"RMSE:\", math.sqrt(mse))\n",
    "    variance = ytest.std()\n",
    "    print(\"Std:\", variance)\n",
    "    errors = abs(ytest - ypred)\n",
    "    mean_error = np.mean(errors)\n",
    "    print(\"Mean Absolut Error:\", mean_error)\n",
    "\n",
    "    if model_name == 'XGBoost':\n",
    "        plot_importance(model, max_num_features=30)  # This function is specific to XGBoost\n",
    "    else:\n",
    "        # Plotting histograms for RandomForest and GBM\n",
    "        fig, axes = plt.subplots(1, 2, figsize=(12, 6))\n",
    "        axes[0].hist(ypred, bins=30, alpha=0.7, color='blue')\n",
    "        axes[0].set_title('Distribution of Predictions')\n",
    "        axes[0].set_xlabel('Predictions')\n",
    "        axes[0].set_ylabel('Frequency')\n",
    "        axes[0].grid(True)\n",
    "\n",
    "        axes[1].hist(ytest, bins=30, alpha=0.7, color='red')\n",
    "        axes[1].set_title('Actual Values')\n",
    "        axes[1].set_xlabel('Values')\n",
    "        axes[1].set_ylabel('Frequency')\n",
    "        axes[1].grid(True)\n",
    "\n",
    "        plt.tight_layout()\n",
    "        plt.show()\n",
    "\n",
    "    if model_name in ['RandomForest', 'XGB', 'GBM']:\n",
    "        joblib.dump(model, f'{model_name}_critics_model.pkl')\n",
    "        print(f\"{model_name} model trained and saved.\")"
   ]
  },
  {
   "cell_type": "code",
   "execution_count": 1049,
   "metadata": {},
   "outputs": [],
   "source": [
    "def pipeline_revenue(data, model_name):\n",
    "    feature, target = feat_and_target_revenue(data)\n",
    "    xtrain, xtest, ytrain, ytest = data_splitting(feature, target)\n",
    "    fit_model_revenue(model_name, xtrain, xtest, ytrain, ytest)\n",
    "def pipeline_critics(data, model_name):\n",
    "    feature, target = feat_and_target_critics(data)\n",
    "    xtrain, xtest, ytrain, ytest = data_splitting(feature, target)\n",
    "    fit_model_critics(model_name, xtrain, xtest, ytrain, ytest)\n",
    "\n",
    "#'XGB': Refers to the XGBoostRegressor model.\n",
    "#'RandomForest': Refers to the RandomForestRegressor model from scikit-learn.\n",
    "#'GBM': Refers to the GradientBoostingRegressor model from scikit-learn."
   ]
  },
  {
   "cell_type": "markdown",
   "metadata": {},
   "source": [
    "Inputs formation"
   ]
  },
  {
   "cell_type": "code",
   "execution_count": 1050,
   "metadata": {},
   "outputs": [
    {
     "name": "stdout",
     "output_type": "stream",
     "text": [
      "Number of features is: 68\n",
      "(4553, 68)\n",
      "(4304, 68)\n"
     ]
    }
   ],
   "source": [
    "to_keep = ['Revenue', 'IMDb rating','M-onehot_x', 'M-onehot_y', 'Runtime', 'Release year_x', 'United States of America-onehot', 'United Kingdom-onehot', 'India-onehot', 'Canada-onehot', 'Germany-onehot', 'Japan-onehot', 'South Korea-onehot', 'Argentina-onehot', 'France-onehot', 'United Kingodm-onehot', 'Spain-onehot', 'Ireland-onehot', 'Hong Kong-onehot', 'China-onehot', 'Russia-onehot', 'Australia-onehot', 'Italy-onehot', 'Mexico-onehot', 'New Zealand-onehot', 'Brazil-onehot', 'Belgium-onehot', 'Denmark-onehot', 'Sweden-onehot', 'Netherlands-onehot', 'Philippines-onehot', 'Thriller-onehot', 'Science Fiction-onehot', 'Horror-onehot', 'Adventure-onehot', 'Action-onehot', 'Drama-onehot', 'Comedy-onehot', 'Romance Film-onehot', 'Musical-onehot', 'Fantasy-onehot', 'Family Film-onehot', 'Crime Fiction-onehot', 'Indie-onehot', 'World cinema-onehot', 'Mystery-onehot', 'Black-and-white-onehot', 'Crime Thriller-onehot', 'Actor height_x', 'Actor age at release_x', 'F-onehot_x', 'White_x', 'Black/African American_x', 'South Asian_x', 'East Asian_x', 'American Indian/Alaska Native_x', 'Pacific Islander_x', 'Other_x', 'Actor height_y', 'Actor age at release_y', 'F-onehot_y', 'White_y', 'Black/African American_y', 'South Asian_y', 'East Asian_y', 'American Indian/Alaska Native_y', 'Pacific Islander_y', 'Other_y']\n",
    "#'Wins', 'Nominations','M-onehot_x', 'M-onehot_y'\n",
    "\n",
    "all_inputs = inputs[to_keep]\n",
    "inputs_filt = filtered_revenues_inputs[to_keep]\n",
    "\n",
    "print(\"Number of features is: \" + str(len(to_keep)))\n",
    "all_inputs = all_inputs.dropna()\n",
    "\n",
    "# List of columns to drop\n",
    "columns_to_drop = ['Actor height_x', 'Actor height_y']\n",
    "# Dropping the specified columns\n",
    "inputs_filt = inputs_filt.dropna()\n",
    "play_data_bis = inputs_filt.head(200)\n",
    "all_inputs = all_inputs[200:]\n",
    "#play_data_bis.drop(columns=columns_to_drop, inplace=True)\n",
    "play_data = inputs_filt.head(20)\n",
    "inputs_filt = inputs_filt[200:]\n",
    "\n",
    "print(all_inputs.shape)\n",
    "print(inputs_filt.shape)\n"
   ]
  },
  {
   "cell_type": "code",
   "execution_count": 1051,
   "metadata": {},
   "outputs": [
    {
     "name": "stdout",
     "output_type": "stream",
     "text": [
      "Column 'Runtime' has 622 NaN values.\n",
      "Column 'IMDb rating' has 750 NaN values.\n",
      "Column 'Release year_x' has 0 NaN values.\n",
      "Column 'Adventure-onehot' has 0 NaN values.\n",
      "Column 'Drama-onehot' has 0 NaN values.\n",
      "Column 'Indie-onehot' has 0 NaN values.\n",
      "Column 'Actor age at release_x' has 619 NaN values.\n",
      "Column 'Actor age at release_y' has 867 NaN values.\n",
      "Column 'Revenue' has 4385 NaN values.\n",
      "(5875, 9)\n"
     ]
    }
   ],
   "source": [
    "inputs_interest = inputs[['Runtime', 'IMDb rating', 'Release year_x',\n",
    "                'Adventure-onehot', 'Drama-onehot', 'Indie-onehot',\n",
    "                'Actor age at release_x', 'Actor age at release_y', 'Revenue']]\n",
    "\n",
    "\n",
    "nan_counts = inputs_interest.isna().sum()\n",
    "\n",
    "for column, count in nan_counts.items():\n",
    "    print(f\"Column '{column}' has {count} NaN values.\")\n",
    "\n",
    "inputs_interest = inputs_interest.dropna()\n",
    "print(inputs_interest.shape)"
   ]
  },
  {
   "cell_type": "code",
   "execution_count": 1052,
   "metadata": {},
   "outputs": [
    {
     "name": "stdout",
     "output_type": "stream",
     "text": [
      "RMSE: 0.8404218222371448\n",
      "Std: 0.9404077690058666\n",
      "Mean Absolut Error: 0.6483851263233312\n"
     ]
    },
    {
     "data": {
      "image/png": "[encoded data removed]",
      "text/plain": [
       "<Figure size 864x432 with 2 Axes>"
      ]
     },
     "metadata": {
      "needs_background": "light"
     },
     "output_type": "display_data"
    },
    {
     "name": "stdout",
     "output_type": "stream",
     "text": [
      "RandomForest model trained and saved.\n",
      "RMSE: 0.9070182344465268\n",
      "Std: 0.9404077690058666\n",
      "Mean Absolut Error: 0.706704621087937\n"
     ]
    },
    {
     "data": {
      "image/png": "[encoded data removed]",
      "text/plain": [
       "<Figure size 864x432 with 2 Axes>"
      ]
     },
     "metadata": {
      "needs_background": "light"
     },
     "output_type": "display_data"
    },
    {
     "name": "stdout",
     "output_type": "stream",
     "text": [
      "XGB model trained and saved.\n",
      "RMSE: 0.8481533618543359\n",
      "Std: 0.9404077690058666\n",
      "Mean Absolut Error: 0.6583414672227753\n"
     ]
    },
    {
     "data": {
      "image/png": "[encoded data removed]",
      "text/plain": [
       "<Figure size 864x432 with 2 Axes>"
      ]
     },
     "metadata": {
      "needs_background": "light"
     },
     "output_type": "display_data"
    },
    {
     "name": "stdout",
     "output_type": "stream",
     "text": [
      "GBM model trained and saved.\n",
      "RMSE: 0.7062205736143883\n",
      "Std: 0.8738595660816861\n",
      "Mean Absolut Error: 0.5412023148487014\n"
     ]
    },
    {
     "data": {
      "image/png": "[encoded data removed]",
      "text/plain": [
       "<Figure size 864x432 with 2 Axes>"
      ]
     },
     "metadata": {
      "needs_background": "light"
     },
     "output_type": "display_data"
    },
    {
     "name": "stdout",
     "output_type": "stream",
     "text": [
      "RandomForest model trained and saved.\n",
      "RMSE: 0.7130558213491842\n",
      "Std: 0.8738595660816861\n",
      "Mean Absolut Error: 0.5559793098764501\n"
     ]
    },
    {
     "data": {
      "image/png": "[encoded data removed]",
      "text/plain": [
       "<Figure size 864x432 with 2 Axes>"
      ]
     },
     "metadata": {
      "needs_background": "light"
     },
     "output_type": "display_data"
    },
    {
     "name": "stdout",
     "output_type": "stream",
     "text": [
      "XGB model trained and saved.\n",
      "RMSE: 0.7012037337023492\n",
      "Std: 0.8738595660816861\n",
      "Mean Absolut Error: 0.5347256152833886\n"
     ]
    },
    {
     "data": {
      "image/png": "[encoded data removed]",
      "text/plain": [
       "<Figure size 864x432 with 2 Axes>"
      ]
     },
     "metadata": {
      "needs_background": "light"
     },
     "output_type": "display_data"
    },
    {
     "name": "stdout",
     "output_type": "stream",
     "text": [
      "GBM model trained and saved.\n"
     ]
    }
   ],
   "source": [
    "pipeline_critics(inputs_filt, 'RandomForest')\n",
    "pipeline_critics(inputs_filt, 'XGB')\n",
    "pipeline_critics(inputs_filt, 'GBM')\n",
    "\n",
    "pipeline_revenue(inputs_filt, 'RandomForest')\n",
    "pipeline_revenue(inputs_filt, 'XGB')\n",
    "pipeline_revenue(inputs_filt, 'GBM')"
   ]
  },
  {
   "cell_type": "markdown",
   "metadata": {},
   "source": [
    "Hyperparameter tuning"
   ]
  },
  {
   "cell_type": "code",
   "execution_count": 1053,
   "metadata": {},
   "outputs": [],
   "source": [
    "space_GBM = {\n",
    "    'max_depth': hp.quniform(\"max_depth\", 3, 18, 1),\n",
    "    'learning_rate': hp.uniform('learning_rate', 0.01, 0.3),\n",
    "    'n_estimators': hp.quniform('n_estimators', 50, 200, 10),\n",
    "    'min_samples_split': hp.quniform('min_samples_split', 2, 20, 1),\n",
    "    'min_samples_leaf': hp.quniform('min_samples_leaf', 1, 10, 1),\n",
    "    'subsample': hp.uniform('subsample', 0.5, 1)\n",
    "}"
   ]
  },
  {
   "cell_type": "code",
   "execution_count": 1054,
   "metadata": {},
   "outputs": [],
   "source": [
    "space_RandomForest = {\n",
    "    'max_depth': hp.quniform(\"max_depth\", 3, 18, 1),\n",
    "    'n_estimators': hp.quniform('n_estimators', 50, 200, 10),\n",
    "    'min_samples_split': hp.quniform('min_samples_split', 2, 20, 1),\n",
    "    'min_samples_leaf': hp.quniform('min_samples_leaf', 1, 10, 1),\n",
    "    'max_features': hp.uniform('max_features', 0.5, 1)\n",
    "}"
   ]
  },
  {
   "cell_type": "code",
   "execution_count": 1055,
   "metadata": {},
   "outputs": [],
   "source": [
    "space_XGB = {\n",
    "    'n_estimators': hp.quniform('n_estimators', 50, 500, 10),\n",
    "    'max_depth': hp.quniform('max_depth', 3, 15, 1),\n",
    "    'learning_rate': hp.uniform('learning_rate', 0.01, 0.3),\n",
    "    'subsample': hp.uniform('subsample', 0.5, 1),\n",
    "    'colsample_bytree': hp.uniform('colsample_bytree', 0.5, 1),\n",
    "    'gamma': hp.uniform('gamma', 0, 5),\n",
    "    'min_child_weight': hp.uniform('min_child_weight', 1, 10),\n",
    "    'reg_alpha': hp.uniform('reg_alpha', 0, 5),\n",
    "    'reg_lambda': hp.uniform('reg_lambda', 0, 5)\n",
    "}\n"
   ]
  },
  {
   "cell_type": "code",
   "execution_count": 1056,
   "metadata": {},
   "outputs": [],
   "source": [
    "from sklearn.ensemble import GradientBoostingRegressor, RandomForestRegressor\n",
    "from xgboost import XGBRegressor\n",
    "from sklearn.model_selection import cross_val_score, KFold\n",
    "from hyperopt import hp, fmin, tpe, Trials, STATUS_OK\n",
    "import numpy as np\n",
    "\n",
    "def hyperopt_tuning(algo_type, space, data, goal):\n",
    "    if goal == 'Revenue':\n",
    "        feature, target = feat_and_target_revenue(data)\n",
    "    elif goal == 'Critics':\n",
    "        feature, target = feat_and_target_critics(data)\n",
    "    else:\n",
    "        raise ValueError(\"Goal not understood\")\n",
    "    xtrain, xtest, ytrain, ytest = data_splitting(feature, target)\n",
    "    def objective(space):\n",
    "        if algo_type == 'XGB':\n",
    "            clf = xgb.XGBRegressor(\n",
    "                n_estimators=int(space['n_estimators']),\n",
    "                max_depth=int(space['max_depth']),\n",
    "                learning_rate=space['learning_rate'],\n",
    "                subsample=space['subsample'],\n",
    "                colsample_bytree=space['colsample_bytree'],\n",
    "                gamma=space['gamma'],\n",
    "                min_child_weight=space['min_child_weight'],\n",
    "                reg_alpha=space['reg_alpha'],\n",
    "                reg_lambda=space['reg_lambda']\n",
    "            )\n",
    "        elif algo_type == 'GBM':\n",
    "            clf = GradientBoostingRegressor(\n",
    "                n_estimators=int(space['n_estimators']),\n",
    "                max_depth=int(space['max_depth']),\n",
    "                learning_rate=space['learning_rate'],\n",
    "                min_samples_split=int(space['min_samples_split']),\n",
    "                min_samples_leaf=int(space['min_samples_leaf']),\n",
    "                subsample=space['subsample'],\n",
    "                random_state=42\n",
    "            )\n",
    "        elif algo_type == 'RandomForest':\n",
    "            clf = RandomForestRegressor(\n",
    "                n_estimators=int(space['n_estimators']),\n",
    "                max_depth=int(space['max_depth']),\n",
    "                min_samples_split=int(space['min_samples_split']),\n",
    "                min_samples_leaf=int(space['min_samples_leaf']),\n",
    "                max_features=space['max_features'],\n",
    "                random_state=42\n",
    "            )\n",
    "        else:\n",
    "            raise ValueError(\"Invalid algorithm type. Supported types are 'XGB', 'GBM', 'RandomForest'\")\n",
    "        \n",
    "        kf = KFold(n_splits=10, shuffle=True, random_state=42)\n",
    "        mse_scores = cross_val_score(clf, xtrain, ytrain, cv=kf, scoring='neg_mean_squared_error')\n",
    "        mean_mse = np.mean(-mse_scores)\n",
    "        \n",
    "        return {'loss': mean_mse, 'status': STATUS_OK}\n",
    "    \n",
    "    trials = Trials()\n",
    "\n",
    "    best_hyperparams = fmin(fn = objective,\n",
    "                            space = space,\n",
    "                            algo = tpe.suggest,\n",
    "                            max_evals = 80,\n",
    "                            trials = trials)\n",
    "\n",
    "    for i, result in enumerate(trials.results):\n",
    "        hyperparameters = trials.trials[i]['misc']['vals']\n",
    "        score = result['loss']\n",
    "        print(f\"Trial {i+1}: Hyperparameters - {hyperparameters}, Score - {score}\")\n",
    "\n",
    "    \n",
    "    return best_hyperparams, trials\n"
   ]
  },
  {
   "cell_type": "code",
   "execution_count": 1057,
   "metadata": {},
   "outputs": [],
   "source": [
    "#best_hyperparams, _ = hyperopt_tuning('XGB', space_XGB, inputs_filt, 'Critics')\n",
    "#print(\"The best hyperparameters are: \", best_hyperparams)"
   ]
  },
  {
   "cell_type": "markdown",
   "metadata": {},
   "source": [
    "Use models"
   ]
  },
  {
   "cell_type": "code",
   "execution_count": 1058,
   "metadata": {},
   "outputs": [],
   "source": [
    "def use_models_critics(data, model):\n",
    "    real_ratings = data['IMDb rating']\n",
    "    real_ratings = real_ratings.to_list()\n",
    "\n",
    "    data = data.drop(['IMDb rating', 'Revenue'], axis = 1)\n",
    "\n",
    "    if model == 'RandomForest':\n",
    "        loaded_model = joblib.load('RandomForest_critics_model.pkl')\n",
    "    elif model == 'XGB':\n",
    "        loaded_model = joblib.load('XGB_critics_model.pkl')\n",
    "    elif model == 'GBM':\n",
    "        loaded_model = joblib.load('GBM_critics_model.pkl')\n",
    "    else:\n",
    "        raise ValueError(\"Invalid model type\")\n",
    "\n",
    "    unseen_data_predictions = loaded_model.predict(data)\n",
    "    abs_element_wise_difference = [abs(x - y) for x, y in zip(real_ratings, unseen_data_predictions)]\n",
    "    print(abs_element_wise_difference)\n",
    "    list_mean = sum(abs_element_wise_difference) / len(abs_element_wise_difference)\n",
    "    print(list_mean)"
   ]
  },
  {
   "cell_type": "code",
   "execution_count": 1059,
   "metadata": {},
   "outputs": [],
   "source": [
    "def use_models_revenue(data, model):\n",
    "    real_revenue = data['Revenue']\n",
    "    real_revenue = real_revenue.to_list()\n",
    "\n",
    "    data = data.drop(['IMDb rating', 'Revenue'], axis = 1)\n",
    "\n",
    "    if model == 'RandomForest':\n",
    "        loaded_model = joblib.load('RandomForest_revenue_model.pkl')\n",
    "    elif model == 'XGB':\n",
    "        loaded_model = joblib.load('XGB_revenue_model.pkl')\n",
    "    elif model == 'GBM':\n",
    "        loaded_model = joblib.load('GBM_revenue_model.pkl')\n",
    "    else:\n",
    "        raise ValueError(\"Invalid model type\")\n",
    "\n",
    "    unseen_data_predictions = np.power(10, loaded_model.predict(data))\n",
    "    abs_element_wise_difference = [abs(x - y) for x, y in zip(real_revenue, unseen_data_predictions)]\n",
    "    print(abs_element_wise_difference)\n",
    "    list_mean = sum(abs_element_wise_difference) / len(abs_element_wise_difference)\n",
    "    print(list_mean)"
   ]
  },
  {
   "cell_type": "code",
   "execution_count": 1060,
   "metadata": {},
   "outputs": [
    {
     "name": "stdout",
     "output_type": "stream",
     "text": [
      "[0.8136400348114634, 0.23243610283193572, 0.515617891802612, 0.9021068610808207, 0.24202791031735593, 0.763094070841972, 1.1562267955751802, 0.6156770089662764, 0.25592714711341014, 0.4999486629971672, 0.36975126006902137, 0.4472508474318717, 0.513164855313569, 0.34046060749274165, 1.853043426462441, 0.11485547239601601, 0.3974263015503192, 0.22460568055344776, 0.9817962834619127, 0.022804856567518073, 0.09336694743140939, 0.02324683533988825, 0.31601155467437536, 0.6507684493238601, 0.4941028581814386, 1.0208003223925193, 0.10473921437346245, 0.0037116661065921264, 1.4012458877169154, 0.44226004059258983, 1.1117830870165992, 0.8017929936074166, 2.3432921427832776, 0.3348870599716385, 0.30652211902453175, 0.5946629509818964, 0.06967447794572035, 0.6968174101229838, 0.8677787462135411, 0.9036138417883626, 0.38658345781892756, 1.4210855037472365, 0.6486156979348827, 0.9199462631863229, 0.6364956186713862, 0.49273942377529245, 0.7543231376219897, 0.34527223657219164, 0.9662976582224427, 0.37648005556091935, 0.9952918618545965, 0.5177962716777484, 1.780361677412253, 0.2512913821803213, 0.149988665269702, 0.17317252181627296, 1.4669604215871894, 0.7647758274703156, 0.11991866781578597, 0.9286354449100163, 0.7795366456233257, 0.7630710435200614, 0.16424775021182025, 0.530783939353423, 0.18189315420138996, 1.0799188359685852, 0.3283274276866184, 0.385833297535779, 0.1627114496787021, 0.7002893055228006, 1.3287196366394243, 0.35086228892019555, 1.067937954963769, 1.1073857335692647, 0.12409668267693519, 0.580831792103444, 0.028047355402143204, 0.3368971346859393, 0.1704963336415295, 0.3140700162961725, 1.3116131776497255, 0.8617190129019727, 0.22734540955094396, 0.04902803998802785, 0.2158693073841338, 2.5245704162765117, 0.9599529049233171, 0.6270709617820351, 1.0165155169151925, 0.32991727635061796, 0.589566985348271, 0.34049369578776467, 1.4484547000793988, 0.3754822843245078, 0.05044232822946526, 0.735270922238966, 1.3182325808586528, 0.09131850306346223, 0.5629681339626034, 0.952644427424862, 0.7199332778058158, 1.3577531795405182, 0.1486626001514182, 0.5899599864760594, 0.19459542300847588, 0.24268951017932583, 1.2037873547194016, 0.06870813073915549, 1.61682577196947, 0.7503118518697018, 0.46271122822780963, 0.5507063322889207, 0.759775225894038, 0.14079913946739442, 0.3100642679259149, 1.155633682292283, 0.2991236678849125, 0.7943708281379571, 0.4102392573507414, 0.44952673371327556, 0.6574854408080943, 0.0526094717372807, 0.40029587973222736, 0.3740639406183588, 0.37090772676071726, 1.1470489254797611, 0.17179854692747476, 1.1574346502704298, 0.27721142019688205, 0.9683935707612639, 0.4014076123557295, 0.20964039970006443, 0.29951106079116574, 0.11998204723532702, 0.07480095096310979, 0.12083749901662877, 0.18770023850952366, 0.2122936668354134, 0.7320943533314859, 0.5372917512839726, 0.5882899634144554, 0.3627486791182477, 0.23230238418623195, 0.7169891464635691, 0.3283125797913895, 0.3649161040665243, 0.09097337273625339, 0.6818438485063743, 0.37124465921441896, 0.6091645073531504, 0.5066479327264091, 0.5446324550510031, 0.5633820893076562, 0.8719037286037334, 1.381947278979987, 0.1472920730011511, 0.16356252938103122, 0.7622478779350788, 0.2959306974124356, 0.15554131455762832, 0.46391277032068245, 2.5690373419323573, 0.809234115551809, 1.6532514101493394, 0.9402708373397406, 0.034165161114998455, 0.6128941401018979, 0.832843052531115, 0.5934350517918876, 1.210119674100306, 0.47692812226784564, 1.4594124515003104, 1.5812353149993639, 0.2846911164869992, 0.3675586629999632, 1.809888839112432, 0.37442153880655393, 0.28716950425688825, 0.4021646530276195, 1.7242432508880716, 0.2714367003937914, 1.270423665174632, 3.8533522471680675, 0.21377819901929307, 0.9063434507123365, 0.9385322917670527, 0.6575776060089975, 1.5602498891948366, 0.3880399287116205, 0.2135235990057227, 1.2708684157098888, 0.8513088243097418, 1.5271982090211322, 0.0688330534146937, 0.2549218705561094, 0.6620435717369988, 0.19651939490154735, 0.9223616321852388, 0.18317488437223073, 0.5135857554304257]\n",
      "0.6433160843220618\n"
     ]
    }
   ],
   "source": [
    "use_models_critics(play_data_bis, 'RandomForest')"
   ]
  },
  {
   "cell_type": "code",
   "execution_count": 1061,
   "metadata": {},
   "outputs": [
    {
     "name": "stdout",
     "output_type": "stream",
     "text": [
      "[0.4122072219848629, 0.051657676696777344, 0.46833381652831996, 0.8069924354553226, 0.4447336196899414, 0.43712511062622106, 0.6254463195800781, 0.2614559173583988, 0.1451490402221678, 0.013705348968505504, 0.1808943748474121, 0.561333179473877, 0.12923812866210938, 0.2938258171081545, 1.3280898094177243, 0.05395812988281268, 0.41897993087768537, 0.11859512329101562, 0.6502038955688478, 0.17862606048583984, 0.09938468933105504, 0.20048141479492188, 0.5650708198547365, 1.2099832534790043, 0.5603941917419437, 0.8466462135314945, 0.16818714141845703, 0.018031406402587713, 0.9519721984863283, 0.13454875946044886, 0.8368223190307615, 1.0355346679687498, 1.379325199127197, 0.24053134918212926, 0.186332416534424, 0.3693740844726561, 0.6369651794433597, 0.16070146560668963, 0.2111964225769043, 0.8262122154235838, 0.3229366302490231, 1.6852412223815918, 0.6743961334228512, 0.8565125465393066, 0.2674431800842285, 0.42123966217041, 0.9639816284179688, 0.6978772163391112, 1.0976070404052738, 0.5182504653930664, 0.4459682464599606, 0.1526189804077145, 2.420268154144287, 0.07375879287719744, 0.17198448181152326, 0.1789565086364746, 1.3136895179748533, 1.016276168823242, 0.44285564422607404, 0.398912334442139, 1.2551042556762697, 0.33167753219604457, 0.6789949417114256, 0.6752122879028324, 0.28809900283813494, 0.7432683944702152, 0.030370426177978693, 0.03907470703124982, 0.2767046928405765, 0.6374506950378418, 1.3816345214843748, 0.6132687568664554, 1.1098147392272946, 1.5394034385681152, 0.3579445838928219, 0.857422637939453, 0.38257265090942383, 0.46129074096679723, 0.8569079399108883, 0.3724073410034183, 1.1517871856689457, 1.2436065673828125, 0.6618581771850582, 0.8017905235290526, 0.00620040893554652, 2.3655937194824226, 0.8732749938964846, 0.38331041336059535, 0.18897438049316406, 0.8962504386901857, 1.1619146347045897, 0.6706452369689941, 1.180359268188477, 0.507146644592285, 0.2970836639404295, 0.8895188331604, 0.702908992767334, 0.11135473251342809, 0.6830502510070797, 1.131559276580811, 0.7192404747009276, 1.145925140380859, 0.2580973625183107, 0.5490365028381348, 0.6921793937683107, 0.6450798988342283, 0.9628287315368649, 0.067669773101807, 1.5112072944641115, 0.19680957794189435, 1.0499110221862793, 0.15895738601684606, 0.4590777397155765, 0.07007026672363281, 0.7141839981079103, 1.2875908851623539, 0.5460403442382811, 0.6065845489501953, 0.3885828018188473, 0.23211889266967756, 0.34612083435058594, 0.9360997200012209, 0.27393302917480433, 0.7870211601257324, 0.3514660835266117, 1.6034434318542479, 0.13525991439819318, 0.4107830047607415, 0.46285448074340785, 0.6164359092712406, 0.5042994499206541, 0.84832010269165, 0.4289147377014162, 0.20364398956298846, 0.02921829223632777, 0.14703903198242152, 0.24888877868652326, 0.07801761627197301, 0.4584005355834959, 0.2594880104064945, 0.28925809860229457, 0.9761556625366214, 0.19263858795166033, 0.5659459114074705, 1.5570923805236818, 0.2370132446289066, 0.45435390472412074, 0.9015598297119141, 0.3363981246948242, 0.6275773048400879, 0.38275823593139613, 0.25321693420410174, 0.24228830337524432, 0.8146572113037109, 1.4429253578186039, 0.16449184417724627, 0.13783435821533185, 0.8236346244812012, 0.22057542800903285, 0.44763059616088885, 0.7482416152954103, 2.5371655464172362, 0.8514343261718746, 2.058122062683106, 0.5889616012573242, 0.5976527214050291, 0.09852285385131854, 0.7364159584045407, 0.496925640106201, 0.8851202011108397, 0.1213713645935055, 1.8965752601623533, 0.7591005325317379, 0.17469387054443342, 0.008007431030273793, 0.2489599227905277, 0.8192958831787109, 0.22085142135620117, 0.5615554809570309, 1.2227923393249505, 0.8069951057434084, 1.3870446205139162, 3.2881431579589844, 0.5809115409851078, 0.8377997398376467, 1.499710273742676, 0.38530530929565465, 1.9112194061279295, 0.7977142333984375, 0.18656740188598597, 1.4991073608398438, 0.7450245857238773, 1.394077396392822, 0.3024395942687992, 0.19929590225219762, 0.034533023834228516, 0.05688953399658203, 0.7915764808654782, 0.2957878112792969, 0.47777366638183594]\n",
      "0.6335218091011048\n"
     ]
    }
   ],
   "source": [
    "use_models_critics(play_data_bis, 'XGB')"
   ]
  },
  {
   "cell_type": "code",
   "execution_count": 1062,
   "metadata": {},
   "outputs": [
    {
     "name": "stdout",
     "output_type": "stream",
     "text": [
      "[0.7429998089064176, 0.19817829818475818, 0.4222894331772862, 0.7722019505960107, 0.04993273931258102, 0.7343695750605272, 0.9734158681056542, 0.46258232032111035, 0.4945810621141913, 0.30638612173396496, 0.21749541913586423, 0.4455551626760412, 0.18842705663585324, 0.3261590765942213, 1.6422493143311003, 0.1937053880669728, 0.3234210034537037, 0.12494353486330922, 0.904706094570507, 0.06832536864141758, 0.2534307637232258, 0.2074304276539536, 0.04002157007405227, 0.6042331706849433, 0.11253129431374198, 1.1659041645642718, 0.06510609341640627, 0.013020985976496924, 0.9767524061249206, 0.40165736849452127, 1.2564881164400488, 0.6370842167617932, 2.423249722779448, 0.37558209192673253, 0.4537745436924414, 0.34168928830079626, 0.20657969845043844, 0.741413792464563, 0.6557153253819221, 1.1356074267585203, 0.11890528562390656, 1.6695910434003771, 0.5976404586674731, 0.9713037232659563, 0.442040294820365, 0.524195500858343, 0.6274373736628309, 0.47700135678547984, 0.9592295855517463, 0.4102619407264756, 0.9576015933603301, 0.2905010617398478, 1.9153712392645557, 0.3839987239724323, 0.03269029499419229, 0.06721313049657685, 1.4638041141211735, 0.5103615479245542, 0.0986144257266206, 0.9854164103490062, 0.9948557138263139, 0.5607663722375937, 0.15822749538453085, 0.6515760293646977, 0.29742515568941474, 0.8945017181389803, 0.2038814125795323, 0.18685929198738105, 0.11019601345602315, 0.8829308824423245, 1.275247976171996, 0.23439618115545002, 0.9313314195135272, 1.156415375705647, 0.1707984901118893, 0.7851887473996824, 0.25201497022315955, 0.3732541771089677, 0.2609042709720102, 0.3192938554442506, 1.3967733318895608, 0.9438437166141771, 0.3976232242805393, 0.0015147160714903407, 0.19768637411157464, 2.538966344870204, 0.880201635446042, 0.5983816508765685, 0.5771803309389636, 0.4105103200380249, 0.41115170307771276, 0.5333754701567672, 1.5648743820338398, 0.2983001553293345, 0.06898270753026292, 0.7242096518662757, 1.0500967715442409, 0.010439063049807906, 0.5127530223139258, 0.8490554249377213, 0.519765631913546, 1.4398462402954237, 0.24334414306134722, 0.5783956412856819, 0.12643205521137535, 0.1904996279788289, 1.1857725537283912, 0.07428205119953457, 1.5674455202568431, 0.5650806767912337, 0.47769655384528154, 0.5027483725031416, 0.6530242393027015, 0.07164409933911742, 0.4620521657349457, 1.2743042376465308, 0.33535835251089896, 0.7561869405950841, 0.515190894494201, 0.4067296284640456, 0.6643237308075642, 0.08472713196623971, 0.3610751952806872, 0.36895631518558325, 0.3714708015673578, 1.1369016416702555, 0.11871422185672742, 0.9281538944466154, 0.38890147816129694, 0.808343219210446, 0.4880456394814674, 0.023212330249685387, 0.27452572156581656, 0.11633813044466201, 0.11411729365220236, 0.10402141872387638, 0.36986285700419597, 0.1588861984299914, 0.6934521240575577, 0.5667698241739085, 0.5797030214340042, 0.4640291301128592, 0.18312568482851965, 0.5480117120055876, 0.6489499521328881, 0.3613842867202308, 0.061301007355157644, 0.8447229269365035, 0.47661153030900394, 0.516255214015156, 0.4920099512915659, 0.5234056165132284, 0.5769658279371113, 0.727454380850701, 1.554679844864073, 0.24037227859369548, 0.16846081175790495, 0.6335558662838991, 0.3867939679075292, 0.25196624972521686, 0.601890890710588, 2.332211027671469, 0.7910629671311487, 1.8650816920038542, 0.829745316800464, 0.37353726802184006, 0.4825338418434182, 0.744806578856239, 0.5788490626211411, 1.0905076764735515, 0.42135529942729555, 1.6208233375851302, 1.3756458229693154, 0.2213006267566966, 0.4594519078048771, 1.341009998908219, 0.25130509693726655, 0.009387850474070092, 0.5750272468206532, 1.8764289559793434, 0.20467432346118475, 1.3211200317550107, 3.860152436908347, 0.31717613988022286, 0.7335331281106923, 0.9224793359856918, 0.5998002679696661, 1.645999941784721, 0.328355661464518, 0.11656251442845633, 1.102031771827475, 1.0036388230359696, 1.2838719982367994, 0.03194846929418915, 0.015628408639738467, 0.5203007979244347, 0.16453060387110074, 0.851035030232902, 0.3865785132098525, 0.6433585752413409]\n",
      "0.6202472950519772\n"
     ]
    }
   ],
   "source": [
    "use_models_critics(play_data_bis, 'GBM')"
   ]
  },
  {
   "cell_type": "code",
   "execution_count": 1063,
   "metadata": {},
   "outputs": [
    {
     "name": "stdout",
     "output_type": "stream",
     "text": [
      "[46384217.88754685, 18920177.534125198, 18863343.495333806, 2634336.486623095, 33156059.2142749, 637304.231855005, 2319107.362485548, 47548154.83514154, 6421994.701027105, 21816904.421813205, 43775554.10961083, 62308402.041416235, 117756653.41487722, 20208548.081749506, 1749069.067682345, 15105293.479102597, 180547245.0733507, 5907222.007252753, 40901464.559840985, 193607415.1699918, 1439828.9670938514, 28853835.60692951, 7717080.187025239, 45821751.30740255, 10989423.458587416, 16827459.495672837, 15470955.410012454, 8807589.205719233, 15431633.232758697, 48317185.37205206, 74112967.90548739, 83426648.93299706, 1339386.6907164007, 144174497.8745956, 64006599.91750318, 81185.41506743873, 53446.098549762275, 637321797.376215, 106337586.80602998, 27043210.812397707, 8554092.942738863, 26931725.08044547, 11060837.507648349, 4894544.429698385, 78433577.7977685, 608410614.7234752, 29782286.181287684, 9910327.740115035, 73459617.7438064, 2729668.689015456, 2208579.657583691, 63510560.779548734, 25990655.41861573, 9884199.667552393, 29024897.69886591, 11193739.507156014, 30858995.170482673, 19025945.5918153, 47040062.95870301, 19914428.944601677, 86599107.50313786, 8589005.0250334, 165988767.62159628, 15278081.047982872, 3832665.3622921836, 8996975.147758119, 201738550.1058839, 12307250.263699219, 1093156.6521818852, 521863.08756687585, 62661215.62481227, 758444290.6145341, 349469996.7834008, 846558379.9227618, 7562953.634926812, 16219025.769629799, 183207928.87928843, 29595264.680278167, 28077232.45104723, 4931776.88752941, 14278648.50446055, 21271517.122765385, 4164795.014476344, 25091089.045958675, 15148818.037590757, 1074059.7053269856, 62560149.30730092, 18000671.253857583, 139441854.87611505, 8881155.401690997, 26250238.991612926, 12302087.616281833, 72212529.32176274, 81112177.50483592, 1838594.7518653274, 672787194.4481375, 18284426.020192295, 11820959.706389628, 235900404.12800604, 6268817.809869442, 85711784.18825887, 44230726.31603426, 9750618.960964516, 166196682.43752867, 37226699.10843029, 5060601.622549402, 28632163.75942731, 785098.052955182, 265251249.8291894, 20268205.101304263, 25416859.490523335, 66647764.57773221, 6401432.841905225, 56140635.39279226, 16081389.418230738, 131976666.36200246, 104582015.07180668, 21292135.04077643, 18081483.893916734, 39641936.23838629, 541057281.5115716, 99872723.75246081, 583653335.7034853, 4744437.290475704, 519984091.67726475, 38899101.5441425, 95689244.68162648, 92083948.32971382, 291664539.3474149, 74265691.78702898, 96056132.32062131, 39911262.95498355, 23437949.783004124, 558691468.9849522, 246646692.78870773, 8978443.71919018, 14041857.04905016, 13169959.20716986, 30520798.42394349, 456789865.78364, 47939803.13550452, 2612245.5829873467, 20927451.474653132, 420834136.94477874, 35115802.65160087, 6551062.138611041, 55034029.08236216, 32097530.20835202, 74909962.17768146, 18505172.462131307, 72475838.96417128, 8973381.88279258, 14605242.940174006, 164922498.15200222, 57028060.01107357, 48901523.05685155, 13482717.005183484, 4384079.706809364, 16180936.923942462, 6472698.997062099, 64677508.442110084, 38235612.585562274, 38702696.12281414, 714271.5570764843, 12099511.667584218, 2064223.876356169, 4825033.524813142, 3033149.930316843, 27599722.07329003, 726474930.1432892, 94109387.63541792, 13799588.391215816, 40495578.47796261, 63280221.38370408, 1599273.1621676083, 815604.4547672032, 10322464.983292647, 7919907.221220051, 384020320.6830605, 4987009.8418114595, 198573126.07211983, 21327142.849599868, 60629474.162432656, 23443261.168911207, 577040575.5382972, 228082057.80824652, 14522410.433463685, 9877218.786114331, 34081096.312416255, 15902893.46381057, 46603688.32381188, 20386918.559963502, 4267187.858344898, 16905104.78240011, 5017997.563018832, 1561799.280002825, 84546395.20081176, 46404612.910456985, 82159731.45066379, 44000756.646317735]\n",
      "83739620.92142802\n"
     ]
    }
   ],
   "source": [
    "use_models_revenue(play_data_bis, 'RandomForest')"
   ]
  },
  {
   "cell_type": "code",
   "execution_count": 1064,
   "metadata": {},
   "outputs": [
    {
     "name": "stdout",
     "output_type": "stream",
     "text": [
      "[26376637.67950311, 12860271.805201609, 12315681.264285713, 3601341.345114087, 23399683.208185486, 3771331.2597864717, 2522990.4398369566, 75922114.18181819, 9056805.31892361, 22249777.687407404, 41991741.48062621, 42000668.07058824, 109528904.68711653, 17191477.691619936, 3792125.4580730544, 1664211.9388399422, 179493157.6963471, 4992914.497184608, 31997533.11866042, 188185284.02250335, 5954709.500044014, 6235647.564675754, 6067338.638878266, 49343001.58935484, 190790.00803921372, 15982301.84175378, 12096066.408823527, 2285535.8561150953, 9674345.73283754, 33289201.21095818, 61714898.56338583, 65432660.79317699, 2401896.993155027, 135333201.3937601, 64332529.65932132, 1684939.5932930708, 1768490.3627329194, 626705345.7548473, 102993727.25968844, 40670984.34760125, 23135088.43445693, 30644009.079365082, 12601433.358918006, 7388507.3922913, 83275520.51748171, 595611214.7096773, 19304453.04093866, 2433106.4137931056, 84553113.69463924, 1226343.3791576088, 1881526.2329317331, 10828905.142857134, 38887532.92398554, 20360355.309945434, 34461666.959477484, 17751130.415725797, 25658800.00051021, 22598951.075900115, 45029605.82589028, 39114796.41744323, 45939079.86024352, 3130793.226542689, 186504465.86884123, 30188104.646860465, 2855744.6683229813, 11466453.0129892, 212675037.10459185, 12297269.47643172, 861969.9468944101, 822894.3822826082, 16296628.196006157, 773507690.3038292, 336722092.50619566, 843214029.9569443, 4364972.508777768, 31598926.438299045, 175463322.0720708, 26528310.75, 16839811.661130715, 7395640.695512824, 10561762.85436894, 21621222.81539557, 43629311.72839746, 35614092.07458942, 15895338.729786709, 5356061.061122041, 65898037.128548354, 11419543.737524807, 145617536.66666663, 4741727.555555552, 9256129.844660185, 24621982.07574224, 61649889.172580644, 71672528.21115822, 13729109.433115259, 683715859.653675, 16571078.36122449, 3986704.429896906, 269805951.1918963, 10572511.913631551, 69573239.26959579, 47694511.16347992, 31699981.128015563, 171883645.1242236, 15959397.513108619, 8138796.652846058, 55385394.412455976, 3004749.4332821304, 266602271.51510918, 22109990.758875288, 24264818.090195168, 78323520.05078565, 17797852.072351303, 39689823.98599428, 14929182.607582454, 132176246.19719428, 40928359.21217473, 17611934.834234998, 23434248.48499044, 42663319.5529556, 538540657.5904049, 85994372.98303096, 585226841.753125, 5985825.764619559, 699015919.5450572, 25130062.66944444, 115424945.75920635, 184095053.91713396, 301758453.0, 79190839.25133929, 109704611.86201692, 48667201.829153016, 23727570.67452181, 579752309.8613861, 229785006.61085886, 32319133.19233215, 16746213.359227344, 15081843.681161977, 48696933.18189962, 476580073.97251976, 31167968.10644972, 28694681.570496894, 19543707.72814516, 433713005.0658823, 42069636.068479314, 3119072.749404366, 45000299.328047045, 34035800.52313575, 68285054.98253968, 9372648.43298968, 69824554.76273291, 12345099.390629962, 10054541.627246656, 178897335.8725233, 42176397.89732716, 37285115.38136645, 11365455.9104251, 7299292.546583846, 19788719.363479704, 10760721.35419342, 45751765.53714279, 29876220.44544135, 36836303.03866397, 1214702.4604951595, 14984058.961835492, 23986.235914574936, 1906774.3501587156, 9420243.168859117, 24806290.40967204, 747251616.090306, 84359864.43410435, 3910973.2010283545, 29463013.81495428, 65297736.81279527, 3173479.222197421, 2479999.5430107526, 22177005.647740968, 6096061.780102041, 361979625.34973633, 20183480.4, 210107103.5273292, 21494833.93594306, 38937077.84631243, 19884182.053085376, 565180998.3819196, 220432954.8761559, 23792105.54431326, 17737280.840004403, 36554351.82115384, 17617318.407653064, 27007836.932211168, 16566799.109154928, 19623473.23076924, 26485425.25, 16001730.603773586, 21255247.668898806, 77783344.68982783, 46892862.96945536, 56347261.36860119, 41075504.41137071]\n",
      "84552465.48861907\n"
     ]
    }
   ],
   "source": [
    "use_models_revenue(play_data_bis, 'XGB')"
   ]
  },
  {
   "cell_type": "code",
   "execution_count": 1065,
   "metadata": {},
   "outputs": [
    {
     "name": "stdout",
     "output_type": "stream",
     "text": [
      "[73188285.31621903, 8276383.099714432, 1260800.2799073756, 1250323.816929132, 31044067.22432772, 5123203.953673892, 1427884.913924527, 51310062.01739061, 8838717.346990626, 33408297.956521243, 42306045.57716806, 34483705.00494493, 37072470.569294795, 18584157.61231076, 1129553.0965375556, 6910715.729158863, 183813440.37036735, 7641263.044655364, 61526229.6730211, 191113421.63477945, 7876580.450712796, 14715907.989523908, 5153408.9055159595, 16695479.36047344, 6087864.110234521, 6661082.202124491, 9081524.044340432, 8585356.833480246, 2909296.0854602605, 41049626.61079708, 73183550.20926292, 89657731.998829, 1033837.1923323151, 146241637.79327774, 69448755.81742167, 233740.15583563363, 451689.43675380363, 637226319.6556087, 130448776.81509459, 24957534.138924025, 11825556.78797684, 32615617.16153788, 9364336.920425737, 1425840.2869169787, 65700563.91145081, 581507485.1799828, 21421826.511085004, 8453014.514931217, 75896060.89092796, 2068120.27972476, 211208.15412341803, 4524042.486088172, 34616955.98948997, 38455004.25376747, 27243661.667128008, 52285608.097742945, 30085416.521958478, 32508758.18565724, 51412437.14115859, 36979854.17313742, 67194903.73511273, 8491745.868862249, 193864914.52548245, 53547298.040885344, 3219981.780120858, 15197506.753907114, 214976995.48832774, 5827397.493047819, 2448176.603156811, 2120751.688206782, 57915046.40355363, 767708680.6381019, 347541270.09882146, 847387424.1065186, 4765977.610967095, 27926833.206015617, 134667086.31797266, 46408369.836064905, 26626570.144306507, 25379553.90075136, 20058744.004060358, 7976174.3697449565, 23336566.991907686, 26542044.31389849, 9728503.212302312, 3198263.2281182036, 67077680.65723388, 37845045.84077279, 155162150.3280064, 19970032.225305945, 26365558.316965833, 17895768.593294445, 79512708.74328525, 76316974.57966505, 17527519.33283163, 652568914.6212138, 8619714.525945092, 25710459.197340503, 248507476.30114156, 5219312.210396423, 90475978.89342985, 54842676.64468497, 7611827.001695171, 163075714.3705334, 16930388.792916603, 4534149.299035613, 38809298.177344516, 922643.5531343194, 260446069.7509734, 51635676.28837257, 27386816.326824043, 72337749.42274712, 14515486.490449134, 55474811.004637405, 15454966.608443514, 139749483.72533652, 115814904.08862202, 21630757.519266948, 32245708.109162636, 39906517.06467359, 540740817.2307091, 79116207.0426513, 570951148.6349488, 7636809.976807654, 517911357.326152, 156126.74131904542, 129391384.70245993, 156664612.9810425, 317971424.2128381, 98009092.89052072, 80605098.03466181, 41180463.23564602, 22539631.477830436, 499641498.35898054, 247026150.36579454, 32163418.475132585, 11130368.64913012, 8279588.978086293, 41934783.06367256, 327419390.1665971, 46313154.499013506, 946660.7687056318, 26450452.4077728, 424597176.221786, 66404492.03893876, 4958959.623918076, 40284435.76163391, 39896219.78497106, 74673974.52263334, 19745682.350649826, 70337429.25778225, 16122511.938634582, 8780055.055859111, 184249657.6303764, 82914170.50281739, 22659449.219593823, 13152903.03363283, 1603223.1112100333, 12038648.316245764, 4857024.058223587, 212362545.49090013, 50013730.879660726, 30135069.501446337, 1194138.69860488, 10770743.396323882, 980494.8427933138, 3659364.2159171663, 5746589.798398152, 26792286.046579305, 752996282.306864, 54398015.13293335, 27130608.700605847, 53536647.36797726, 63969955.707659036, 1516188.8687921665, 818628.4008279615, 6016705.399516188, 7771083.994047011, 319399432.2116381, 451735.4541756287, 209822126.81116465, 14752973.98212716, 97904402.39177611, 25679973.302329436, 557929622.5883092, 227049396.02706468, 19611636.976822115, 3948686.208306838, 34686573.55212642, 20123707.48548165, 40717740.51491068, 22636997.015523057, 5017277.193185523, 15767609.336824203, 5305594.445286263, 98705965.52188997, 88026342.58896782, 31694662.609033197, 107724121.45604697, 52908986.23922503]\n",
      "85086490.55718195\n"
     ]
    }
   ],
   "source": [
    "use_models_revenue(play_data_bis, 'GBM')"
   ]
  },
  {
   "cell_type": "code",
   "execution_count": 1066,
   "metadata": {},
   "outputs": [
    {
     "data": {
      "text/plain": [
       "Index(['Revenue', 'IMDb rating', 'M-onehot_x', 'M-onehot_y', 'Runtime',\n",
       "       'Release year_x', 'United States of America-onehot',\n",
       "       'United Kingdom-onehot', 'India-onehot', 'Canada-onehot',\n",
       "       'Germany-onehot', 'Japan-onehot', 'South Korea-onehot',\n",
       "       'Argentina-onehot', 'France-onehot', 'United Kingodm-onehot',\n",
       "       'Spain-onehot', 'Ireland-onehot', 'Hong Kong-onehot', 'China-onehot',\n",
       "       'Russia-onehot', 'Australia-onehot', 'Italy-onehot', 'Mexico-onehot',\n",
       "       'New Zealand-onehot', 'Brazil-onehot', 'Belgium-onehot',\n",
       "       'Denmark-onehot', 'Sweden-onehot', 'Netherlands-onehot',\n",
       "       'Philippines-onehot', 'Thriller-onehot', 'Science Fiction-onehot',\n",
       "       'Horror-onehot', 'Adventure-onehot', 'Action-onehot', 'Drama-onehot',\n",
       "       'Comedy-onehot', 'Romance Film-onehot', 'Musical-onehot',\n",
       "       'Fantasy-onehot', 'Family Film-onehot', 'Crime Fiction-onehot',\n",
       "       'Indie-onehot', 'World cinema-onehot', 'Mystery-onehot',\n",
       "       'Black-and-white-onehot', 'Crime Thriller-onehot', 'Actor height_x',\n",
       "       'Actor age at release_x', 'F-onehot_x', 'White_x',\n",
       "       'Black/African American_x', 'South Asian_x', 'East Asian_x',\n",
       "       'American Indian/Alaska Native_x', 'Pacific Islander_x', 'Other_x',\n",
       "       'Actor height_y', 'Actor age at release_y', 'F-onehot_y', 'White_y',\n",
       "       'Black/African American_y', 'South Asian_y', 'East Asian_y',\n",
       "       'American Indian/Alaska Native_y', 'Pacific Islander_y', 'Other_y'],\n",
       "      dtype='object')"
      ]
     },
     "execution_count": 1066,
     "metadata": {},
     "output_type": "execute_result"
    }
   ],
   "source": [
    "play_data_bis.columns"
   ]
  }
 ],
 "metadata": {
  "kernelspec": {
   "display_name": "ada",
   "language": "python",
   "name": "python3"
  },
  "language_info": {
   "codemirror_mode": {
    "name": "ipython",
    "version": 3
   },
   "file_extension": ".py",
   "mimetype": "text/x-python",
   "name": "python",
   "nbconvert_exporter": "python",
   "pygments_lexer": "ipython3",
   "version": "3.8.8"
  }
 },
 "nbformat": 4,
 "nbformat_minor": 2
}
