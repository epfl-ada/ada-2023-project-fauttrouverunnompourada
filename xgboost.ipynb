{
 "cells": [
  {
   "cell_type": "markdown",
   "metadata": {},
   "source": [
    "Import libraries"
   ]
  },
  {
   "cell_type": "code",
   "execution_count": 743,
   "metadata": {},
   "outputs": [],
   "source": [
    "import pandas as pd\n",
    "import xgboost as xgb\n",
    "from sklearn.model_selection import train_test_split\n",
    "from sklearn.metrics import mean_squared_error\n",
    "import math\n",
    "import numpy as np\n",
    "from xgboost import plot_importance\n",
    "from hyperopt import STATUS_OK, Trials, fmin, hp, tpe\n",
    "from sklearn.model_selection import cross_val_score, KFold\n",
    "from sklearn.ensemble import RandomForestRegressor, GradientBoostingRegressor\n",
    "import joblib"
   ]
  },
  {
   "cell_type": "markdown",
   "metadata": {},
   "source": [
    "Import files"
   ]
  },
  {
   "cell_type": "code",
   "execution_count": 744,
   "metadata": {},
   "outputs": [
    {
     "name": "stdout",
     "output_type": "stream",
     "text": [
      "['Wiki ID', 'Freebase ID_x', 'Movie name', 'Release date_x', 'Revenue', 'Runtime', 'IMDb rating', 'Wins', 'Nominations', 'Release year_x', 'Languages', 'Genres', 'Countries', 'United States of America-onehot', 'United Kingdom-onehot', 'India-onehot', 'Canada-onehot', 'Germany-onehot', 'Japan-onehot', 'South Korea-onehot', 'Argentina-onehot', 'France-onehot', 'United Kingodm-onehot', 'Spain-onehot', 'Ireland-onehot', 'Hong Kong-onehot', 'China-onehot', 'Russia-onehot', 'Australia-onehot', 'Italy-onehot', 'Mexico-onehot', 'New Zealand-onehot', 'Brazil-onehot', 'Belgium-onehot', 'Denmark-onehot', 'Sweden-onehot', 'Netherlands-onehot', 'Philippines-onehot', 'Thriller-onehot', 'Science Fiction-onehot', 'Horror-onehot', 'Adventure-onehot', 'Action-onehot', 'Drama-onehot', 'Comedy-onehot', 'Romance Film-onehot', 'Musical-onehot', 'Fantasy-onehot', 'Family Film-onehot', 'Crime Fiction-onehot', 'Indie-onehot', 'World cinema-onehot', 'Mystery-onehot', 'Black-and-white-onehot', 'Crime Thriller-onehot', 'Freebase ID_y', 'Release date_y', 'Character name_x', 'Actor DOB_x', 'Actor gender_x', 'Actor height_x', 'Actor ethnicity_x', 'Actor name_x', 'Actor age at release_x', 'Map ID_x', 'Character ID_x', 'Actor ID_x', 'Role_x', 'Year_x', 'Release year_y', 'Actor birth year_x', 'F-onehot_x', 'M-onehot_x', 'White_x', 'Black/African American_x', 'South Asian_x', 'East Asian_x', 'American Indian/Alaska Native_x', 'Pacific Islander_x', 'Other_x', 'Freebase ID', 'Release date', 'Character name_y', 'Actor DOB_y', 'Actor gender_y', 'Actor height_y', 'Actor ethnicity_y', 'Actor name_y', 'Actor age at release_y', 'Map ID_y', 'Character ID_y', 'Actor ID_y', 'Role_y', 'Year_y', 'Release year', 'Actor birth year_y', 'F-onehot_y', 'M-onehot_y', 'White_y', 'Black/African American_y', 'South Asian_y', 'East Asian_y', 'American Indian/Alaska Native_y', 'Pacific Islander_y', 'Other_y']\n"
     ]
    }
   ],
   "source": [
    "characters = pd.read_csv(\"../Clean data/clean_character_data.csv\")\n",
    "movies = pd.read_csv(\"../Clean data/clean_movie_data.csv\")\n",
    "inputs = pd.read_csv(\"../Clean data/inputs.csv\")\n",
    "\n",
    "column_names = list(inputs.columns)\n",
    "print(column_names)"
   ]
  },
  {
   "cell_type": "markdown",
   "metadata": {},
   "source": [
    "Quick look at inputs"
   ]
  },
  {
   "cell_type": "code",
   "execution_count": 745,
   "metadata": {},
   "outputs": [
    {
     "data": {
      "text/html": [
       "<div>\n",
       "<style scoped>\n",
       "    .dataframe tbody tr th:only-of-type {\n",
       "        vertical-align: middle;\n",
       "    }\n",
       "\n",
       "    .dataframe tbody tr th {\n",
       "        vertical-align: top;\n",
       "    }\n",
       "\n",
       "    .dataframe thead th {\n",
       "        text-align: right;\n",
       "    }\n",
       "</style>\n",
       "<table border=\"1\" class=\"dataframe\">\n",
       "  <thead>\n",
       "    <tr style=\"text-align: right;\">\n",
       "      <th></th>\n",
       "      <th>Wiki ID</th>\n",
       "      <th>Freebase ID_x</th>\n",
       "      <th>Movie name</th>\n",
       "      <th>Release date_x</th>\n",
       "      <th>Revenue</th>\n",
       "      <th>Runtime</th>\n",
       "      <th>IMDb rating</th>\n",
       "      <th>Wins</th>\n",
       "      <th>Nominations</th>\n",
       "      <th>Release year_x</th>\n",
       "      <th>...</th>\n",
       "      <th>Actor birth year_y</th>\n",
       "      <th>F-onehot_y</th>\n",
       "      <th>M-onehot_y</th>\n",
       "      <th>White_y</th>\n",
       "      <th>Black/African American_y</th>\n",
       "      <th>South Asian_y</th>\n",
       "      <th>East Asian_y</th>\n",
       "      <th>American Indian/Alaska Native_y</th>\n",
       "      <th>Pacific Islander_y</th>\n",
       "      <th>Other_y</th>\n",
       "    </tr>\n",
       "  </thead>\n",
       "  <tbody>\n",
       "    <tr>\n",
       "      <th>0</th>\n",
       "      <td>975900</td>\n",
       "      <td>/m/03vyhn</td>\n",
       "      <td>Ghosts of Mars</td>\n",
       "      <td>2001-08-24</td>\n",
       "      <td>2.315268e+07</td>\n",
       "      <td>98.0</td>\n",
       "      <td>4.9</td>\n",
       "      <td>NaN</td>\n",
       "      <td>2.0</td>\n",
       "      <td>2001</td>\n",
       "      <td>...</td>\n",
       "      <td>1969.0</td>\n",
       "      <td>0.0</td>\n",
       "      <td>1.0</td>\n",
       "      <td>0</td>\n",
       "      <td>1</td>\n",
       "      <td>0</td>\n",
       "      <td>0</td>\n",
       "      <td>0</td>\n",
       "      <td>0</td>\n",
       "      <td>0</td>\n",
       "    </tr>\n",
       "    <tr>\n",
       "      <th>1</th>\n",
       "      <td>6631279</td>\n",
       "      <td>/m/0gffwj</td>\n",
       "      <td>Little city</td>\n",
       "      <td>1997-04-04</td>\n",
       "      <td>NaN</td>\n",
       "      <td>93.0</td>\n",
       "      <td>5.8</td>\n",
       "      <td>NaN</td>\n",
       "      <td>NaN</td>\n",
       "      <td>1997</td>\n",
       "      <td>...</td>\n",
       "      <td>1964.0</td>\n",
       "      <td>1.0</td>\n",
       "      <td>0.0</td>\n",
       "      <td>0</td>\n",
       "      <td>0</td>\n",
       "      <td>0</td>\n",
       "      <td>0</td>\n",
       "      <td>0</td>\n",
       "      <td>0</td>\n",
       "      <td>1</td>\n",
       "    </tr>\n",
       "    <tr>\n",
       "      <th>2</th>\n",
       "      <td>171005</td>\n",
       "      <td>/m/016ywb</td>\n",
       "      <td>Henry V</td>\n",
       "      <td>1989-11-08</td>\n",
       "      <td>2.398142e+07</td>\n",
       "      <td>137.0</td>\n",
       "      <td>7.5</td>\n",
       "      <td>12.0</td>\n",
       "      <td>13.0</td>\n",
       "      <td>1989</td>\n",
       "      <td>...</td>\n",
       "      <td>1959.0</td>\n",
       "      <td>1.0</td>\n",
       "      <td>0.0</td>\n",
       "      <td>1</td>\n",
       "      <td>0</td>\n",
       "      <td>0</td>\n",
       "      <td>0</td>\n",
       "      <td>0</td>\n",
       "      <td>0</td>\n",
       "      <td>0</td>\n",
       "    </tr>\n",
       "    <tr>\n",
       "      <th>3</th>\n",
       "      <td>77856</td>\n",
       "      <td>/m/0kcn7</td>\n",
       "      <td>Mary Poppins</td>\n",
       "      <td>1964-08-27</td>\n",
       "      <td>9.655040e+08</td>\n",
       "      <td>139.0</td>\n",
       "      <td>7.8</td>\n",
       "      <td>22.0</td>\n",
       "      <td>17.0</td>\n",
       "      <td>1964</td>\n",
       "      <td>...</td>\n",
       "      <td>1917.0</td>\n",
       "      <td>0.0</td>\n",
       "      <td>1.0</td>\n",
       "      <td>0</td>\n",
       "      <td>0</td>\n",
       "      <td>0</td>\n",
       "      <td>0</td>\n",
       "      <td>0</td>\n",
       "      <td>0</td>\n",
       "      <td>1</td>\n",
       "    </tr>\n",
       "    <tr>\n",
       "      <th>4</th>\n",
       "      <td>156558</td>\n",
       "      <td>/m/014k4y</td>\n",
       "      <td>Baby Boy</td>\n",
       "      <td>2001-06-27</td>\n",
       "      <td>4.855272e+07</td>\n",
       "      <td>123.0</td>\n",
       "      <td>6.4</td>\n",
       "      <td>1.0</td>\n",
       "      <td>14.0</td>\n",
       "      <td>2001</td>\n",
       "      <td>...</td>\n",
       "      <td>1970.0</td>\n",
       "      <td>1.0</td>\n",
       "      <td>0.0</td>\n",
       "      <td>0</td>\n",
       "      <td>1</td>\n",
       "      <td>0</td>\n",
       "      <td>0</td>\n",
       "      <td>0</td>\n",
       "      <td>0</td>\n",
       "      <td>0</td>\n",
       "    </tr>\n",
       "  </tbody>\n",
       "</table>\n",
       "<p>5 rows × 105 columns</p>\n",
       "</div>"
      ],
      "text/plain": [
       "   Wiki ID Freebase ID_x      Movie name Release date_x       Revenue  \\\n",
       "0   975900     /m/03vyhn  Ghosts of Mars     2001-08-24  2.315268e+07   \n",
       "1  6631279     /m/0gffwj     Little city     1997-04-04           NaN   \n",
       "2   171005     /m/016ywb         Henry V     1989-11-08  2.398142e+07   \n",
       "3    77856      /m/0kcn7    Mary Poppins     1964-08-27  9.655040e+08   \n",
       "4   156558     /m/014k4y        Baby Boy     2001-06-27  4.855272e+07   \n",
       "\n",
       "   Runtime  IMDb rating  Wins  Nominations  Release year_x  ...  \\\n",
       "0     98.0          4.9   NaN          2.0            2001  ...   \n",
       "1     93.0          5.8   NaN          NaN            1997  ...   \n",
       "2    137.0          7.5  12.0         13.0            1989  ...   \n",
       "3    139.0          7.8  22.0         17.0            1964  ...   \n",
       "4    123.0          6.4   1.0         14.0            2001  ...   \n",
       "\n",
       "  Actor birth year_y F-onehot_y M-onehot_y  White_y  Black/African American_y  \\\n",
       "0             1969.0        0.0        1.0        0                         1   \n",
       "1             1964.0        1.0        0.0        0                         0   \n",
       "2             1959.0        1.0        0.0        1                         0   \n",
       "3             1917.0        0.0        1.0        0                         0   \n",
       "4             1970.0        1.0        0.0        0                         1   \n",
       "\n",
       "   South Asian_y  East Asian_y  American Indian/Alaska Native_y  \\\n",
       "0              0             0                                0   \n",
       "1              0             0                                0   \n",
       "2              0             0                                0   \n",
       "3              0             0                                0   \n",
       "4              0             0                                0   \n",
       "\n",
       "   Pacific Islander_y  Other_y  \n",
       "0                   0        0  \n",
       "1                   0        1  \n",
       "2                   0        0  \n",
       "3                   0        1  \n",
       "4                   0        0  \n",
       "\n",
       "[5 rows x 105 columns]"
      ]
     },
     "execution_count": 745,
     "metadata": {},
     "output_type": "execute_result"
    }
   ],
   "source": [
    "inputs.head()"
   ]
  },
  {
   "cell_type": "code",
   "execution_count": 746,
   "metadata": {},
   "outputs": [
    {
     "data": {
      "text/plain": [
       "(10918, 105)"
      ]
     },
     "execution_count": 746,
     "metadata": {},
     "output_type": "execute_result"
    }
   ],
   "source": [
    "inputs.shape"
   ]
  },
  {
   "cell_type": "code",
   "execution_count": 747,
   "metadata": {},
   "outputs": [
    {
     "name": "stdout",
     "output_type": "stream",
     "text": [
      "Maximum Revenue: 9522959437.465649\n",
      "Minimum Revenue: 336.5110586513585\n"
     ]
    }
   ],
   "source": [
    "# Assuming 'Revenues' is the column in your DataFrame 'df'\n",
    "max_revenue = inputs['Revenue'].max()\n",
    "min_revenue = inputs['Revenue'].min()\n",
    "\n",
    "print(\"Maximum Revenue:\", max_revenue)\n",
    "print(\"Minimum Revenue:\", min_revenue)\n"
   ]
  },
  {
   "cell_type": "code",
   "execution_count": 748,
   "metadata": {},
   "outputs": [],
   "source": [
    "# DataFrame with revenues higher than 1,000,000,000\n",
    "high_revenue_df = inputs[inputs['Revenue'] > 1000000000]\n",
    "\n",
    "# DataFrame with revenues lower than 1,000\n",
    "low_revenue_df = inputs[inputs['Revenue'] < 1000000]"
   ]
  },
  {
   "cell_type": "code",
   "execution_count": 749,
   "metadata": {},
   "outputs": [
    {
     "data": {
      "text/plain": [
       "(99, 105)"
      ]
     },
     "execution_count": 749,
     "metadata": {},
     "output_type": "execute_result"
    }
   ],
   "source": [
    "high_revenue_df.shape"
   ]
  },
  {
   "cell_type": "code",
   "execution_count": 750,
   "metadata": {},
   "outputs": [
    {
     "data": {
      "text/plain": [
       "(952, 105)"
      ]
     },
     "execution_count": 750,
     "metadata": {},
     "output_type": "execute_result"
    }
   ],
   "source": [
    "low_revenue_df.shape"
   ]
  },
  {
   "cell_type": "markdown",
   "metadata": {},
   "source": [
    "All inputs analysis"
   ]
  },
  {
   "cell_type": "code",
   "execution_count": 751,
   "metadata": {},
   "outputs": [
    {
     "data": {
      "image/png": "[encoded data removed]",
      "text/plain": [
       "<Figure size 864x864 with 4 Axes>"
      ]
     },
     "metadata": {
      "needs_background": "light"
     },
     "output_type": "display_data"
    }
   ],
   "source": [
    "import matplotlib.pyplot as plt\n",
    "import numpy as np\n",
    "\n",
    "# Assuming 'Revenues' and 'IMDb_Rating' are columns in your DataFrame 'df'\n",
    "revenues = inputs['Revenue']\n",
    "imdb_ratings = inputs['IMDb rating']\n",
    "\n",
    "# Create subplots with 2 rows and 2 columns\n",
    "fig, axes = plt.subplots(2, 2, figsize=(12, 12))\n",
    "\n",
    "# Plot for Revenue\n",
    "axes[0, 0].hist(revenues, bins=30, alpha=0.7, color='blue')\n",
    "axes[0, 0].set_title('Distribution of Revenue')\n",
    "axes[0, 0].set_xlabel('Revenue')\n",
    "axes[0, 0].set_ylabel('Frequency')\n",
    "axes[0, 0].grid(True)\n",
    "\n",
    "# Plot for IMDb Rating\n",
    "axes[0, 1].hist(imdb_ratings, bins=30, alpha=0.7, color='green')\n",
    "axes[0, 1].set_title('Distribution of IMDb Rating')\n",
    "axes[0, 1].set_xlabel('IMDb Rating')\n",
    "axes[0, 1].set_ylabel('Frequency')\n",
    "axes[0, 1].grid(True)\n",
    "\n",
    "# Plot for log-transformed Revenue\n",
    "axes[1, 0].hist(np.log10(revenues), bins=30, alpha=0.7, color='orange')\n",
    "axes[1, 0].set_title('Distribution of log(Revenue)')\n",
    "axes[1, 0].set_xlabel('log(Revenue)')\n",
    "axes[1, 0].set_ylabel('Frequency')\n",
    "axes[1, 0].grid(True)\n",
    "\n",
    "# Plot for log-transformed IMDb Rating\n",
    "axes[1, 1].hist(np.log10(imdb_ratings), bins=30, alpha=0.7, color='purple')\n",
    "axes[1, 1].set_title('Distribution of log(IMDb Rating)')\n",
    "axes[1, 1].set_xlabel('log(IMDb Rating)')\n",
    "axes[1, 1].set_ylabel('Frequency')\n",
    "axes[1, 1].grid(True)\n",
    "\n",
    "plt.tight_layout()  # Adjusts the spacing between plots\n",
    "plt.show()\n"
   ]
  },
  {
   "cell_type": "markdown",
   "metadata": {},
   "source": [
    "Tail-cut inputs analysis"
   ]
  },
  {
   "cell_type": "code",
   "execution_count": 752,
   "metadata": {},
   "outputs": [],
   "source": [
    "min_revenue_threshold = 100000  # Set your minimum revenue threshold\n",
    "max_revenue_threshold = 1000000000  # Set your maximum revenue threshold\n",
    "\n",
    "filtered_revenues_inputs = inputs[(inputs['Revenue'] > min_revenue_threshold) & (inputs['Revenue'] < max_revenue_threshold)]"
   ]
  },
  {
   "cell_type": "code",
   "execution_count": 753,
   "metadata": {},
   "outputs": [
    {
     "data": {
      "image/png": "[encoded data removed]",
      "text/plain": [
       "<Figure size 864x864 with 4 Axes>"
      ]
     },
     "metadata": {
      "needs_background": "light"
     },
     "output_type": "display_data"
    }
   ],
   "source": [
    "import matplotlib.pyplot as plt\n",
    "import numpy as np\n",
    "\n",
    "# Assuming 'Revenues' and 'IMDb_Rating' are columns in your DataFrame 'df'\n",
    "revenues = filtered_revenues_inputs['Revenue']\n",
    "imdb_ratings = filtered_revenues_inputs['IMDb rating']\n",
    "\n",
    "# Create subplots with 2 rows and 2 columns\n",
    "fig, axes = plt.subplots(2, 2, figsize=(12, 12))\n",
    "\n",
    "# Plot for Revenue\n",
    "axes[0, 0].hist(revenues, bins=30, alpha=0.7, color='blue')\n",
    "axes[0, 0].set_title('Distribution of Revenue')\n",
    "axes[0, 0].set_xlabel('Revenue')\n",
    "axes[0, 0].set_ylabel('Frequency')\n",
    "axes[0, 0].grid(True)\n",
    "\n",
    "# Plot for IMDb Rating\n",
    "axes[0, 1].hist(imdb_ratings, bins=30, alpha=0.7, color='green')\n",
    "axes[0, 1].set_title('Distribution of IMDb Rating')\n",
    "axes[0, 1].set_xlabel('IMDb Rating')\n",
    "axes[0, 1].set_ylabel('Frequency')\n",
    "axes[0, 1].grid(True)\n",
    "\n",
    "# Plot for log-transformed Revenue\n",
    "axes[1, 0].hist(np.log10(revenues), bins=30, alpha=0.7, color='orange')\n",
    "axes[1, 0].set_title('Distribution of log(Revenue)')\n",
    "axes[1, 0].set_xlabel('log(Revenue)')\n",
    "axes[1, 0].set_ylabel('Frequency')\n",
    "axes[1, 0].grid(True)\n",
    "\n",
    "# Plot for log-transformed IMDb Rating\n",
    "axes[1, 1].hist(np.log10(imdb_ratings), bins=30, alpha=0.7, color='purple')\n",
    "axes[1, 1].set_title('Distribution of log(IMDb Rating)')\n",
    "axes[1, 1].set_xlabel('log(IMDb Rating)')\n",
    "axes[1, 1].set_ylabel('Frequency')\n",
    "axes[1, 1].grid(True)\n",
    "\n",
    "plt.tight_layout()  # Adjusts the spacing between plots\n",
    "plt.show()\n"
   ]
  },
  {
   "cell_type": "markdown",
   "metadata": {},
   "source": [
    "Modelling functions"
   ]
  },
  {
   "cell_type": "code",
   "execution_count": 754,
   "metadata": {},
   "outputs": [],
   "source": [
    "def feat_and_target_revenue(data):\n",
    "    feature = data.drop(['Revenue', 'IMDb rating'], axis = 1)\n",
    "    target = np.log10(data['Revenue'])\n",
    "\n",
    "    return feature, target"
   ]
  },
  {
   "cell_type": "code",
   "execution_count": 755,
   "metadata": {},
   "outputs": [],
   "source": [
    "def feat_and_target_critics(data):\n",
    "    feature = data.drop(['IMDb rating', 'Revenue'], axis = 1)\n",
    "    target = (data['IMDb rating'])\n",
    "\n",
    "    return feature, target"
   ]
  },
  {
   "cell_type": "code",
   "execution_count": 756,
   "metadata": {},
   "outputs": [],
   "source": [
    "def data_splitting(feature, target):\n",
    "    #Returns x_train, x_test, y_train, y_test\n",
    "    return train_test_split(feature, target, test_size=0.2, random_state=42) "
   ]
  },
  {
   "cell_type": "code",
   "execution_count": 757,
   "metadata": {},
   "outputs": [],
   "source": [
    "def fit_model_revenue(model_name, xtrain, xtest, ytrain, ytest):\n",
    "    if model_name == 'RandomForest':\n",
    "        model = RandomForestRegressor(\n",
    "    max_depth=13,\n",
    "    max_features=0.5044385141334264,\n",
    "    min_samples_leaf=4,\n",
    "    min_samples_split=15,\n",
    "    n_estimators=140,\n",
    "    random_state=42\n",
    ")  # Adjust parameters as needed\n",
    "    elif model_name == 'XGB':\n",
    "        model = xgb.XGBRegressor(\n",
    "    objective='reg:squarederror',\n",
    "    colsample_bytree = 0.5382140919340437, \n",
    "    gamma = 1.0628444205682614,\n",
    "    max_depth = 7, \n",
    "    min_child_weight = 1, \n",
    "    n_estimators = 70, \n",
    "    reg_alpha = 40\n",
    ")\n",
    "    elif model_name == 'GBM':\n",
    "        model = GradientBoostingRegressor(\n",
    "    learning_rate=0.048040737541705625,\n",
    "    max_depth=4,\n",
    "    min_samples_leaf=8,\n",
    "    min_samples_split=5,\n",
    "    n_estimators=200,\n",
    "    subsample=0.7977456176958748,\n",
    "    random_state=42\n",
    ")\n",
    "\n",
    "    else:\n",
    "        print(\"Invalid model name.\")\n",
    "        return\n",
    "    \n",
    "    model.fit(xtrain, ytrain)\n",
    "    ypred = model.predict(xtest)\n",
    "    mse = mean_squared_error(ytest, ypred)\n",
    "    print(\"RMSE:\", math.sqrt(mse))\n",
    "    variance = ytest.std()\n",
    "    print(\"Std:\", variance)\n",
    "    errors = abs(ytest - ypred)\n",
    "    mean_error = np.mean(errors)\n",
    "    print(\"Mean Absolut Error:\", mean_error)\n",
    "\n",
    "    if model_name == 'XGBoost':\n",
    "        plot_importance(model, max_num_features=30)  # This function is specific to XGBoost\n",
    "    else:\n",
    "        # Plotting histograms for RandomForest and GBM\n",
    "        fig, axes = plt.subplots(1, 2, figsize=(12, 6))\n",
    "        axes[0].hist(ypred, bins=30, alpha=0.7, color='blue')\n",
    "        axes[0].set_title('Distribution of Predictions')\n",
    "        axes[0].set_xlabel('Predictions')\n",
    "        axes[0].set_ylabel('Frequency')\n",
    "        axes[0].grid(True)\n",
    "\n",
    "        axes[1].hist(ytest, bins=30, alpha=0.7, color='red')\n",
    "        axes[1].set_title('Actual Values')\n",
    "        axes[1].set_xlabel('Values')\n",
    "        axes[1].set_ylabel('Frequency')\n",
    "        axes[1].grid(True)\n",
    "\n",
    "        plt.tight_layout()\n",
    "        plt.show()\n",
    "\n",
    "    if model_name in ['RandomForest', 'XGB', 'GBM']:\n",
    "        joblib.dump(model, f'{model_name}_revenue_model.pkl')\n",
    "        print(f\"{model_name} model trained and saved.\")\n",
    "\n"
   ]
  },
  {
   "cell_type": "code",
   "execution_count": 758,
   "metadata": {},
   "outputs": [],
   "source": [
    "def fit_model_critics(model_name, xtrain, xtest, ytrain, ytest):\n",
    "    if model_name == 'RandomForest':\n",
    "        model = RandomForestRegressor(\n",
    "    max_depth=17,\n",
    "    max_features=0.5013884710633058,\n",
    "    min_samples_leaf=9,\n",
    "    min_samples_split=14,\n",
    "    n_estimators=110,\n",
    "    random_state=42\n",
    ")  # Adjust parameters as needed\n",
    "    elif model_name == 'XGB':\n",
    "        model = xgb.XGBRegressor(\n",
    "    objective='reg:squarederror',\n",
    "    colsample_bytree = 0.8040762773750969, \n",
    "    gamma = 0.014551544273050691,\n",
    "    max_depth = 7, \n",
    "    min_child_weight = 1.8067173676269164, \n",
    "    n_estimators = 200, \n",
    "    reg_alpha = 0.28332090854937586\n",
    ") \n",
    "    elif model_name == 'GBM':\n",
    "        model = GradientBoostingRegressor(\n",
    "    learning_rate=0.058359413134240305,\n",
    "    max_depth=4,\n",
    "    min_samples_leaf=10,\n",
    "    min_samples_split=2,\n",
    "    n_estimators=150,\n",
    "    subsample=0.6268043574324423,\n",
    "    random_state=42\n",
    ") \n",
    "    else:\n",
    "        print(\"Invalid model name.\")\n",
    "        return\n",
    "    \n",
    "    model.fit(xtrain, ytrain)\n",
    "    ypred = model.predict(xtest)\n",
    "    mse = mean_squared_error(ytest, ypred)\n",
    "    print(\"RMSE:\", math.sqrt(mse))\n",
    "    variance = ytest.std()\n",
    "    print(\"Std:\", variance)\n",
    "    errors = abs(ytest - ypred)\n",
    "    mean_error = np.mean(errors)\n",
    "    print(\"Mean Absolut Error:\", mean_error)\n",
    "\n",
    "    if model_name == 'XGBoost':\n",
    "        plot_importance(model, max_num_features=30)  # This function is specific to XGBoost\n",
    "    else:\n",
    "        # Plotting histograms for RandomForest and GBM\n",
    "        fig, axes = plt.subplots(1, 2, figsize=(12, 6))\n",
    "        axes[0].hist(ypred, bins=30, alpha=0.7, color='blue')\n",
    "        axes[0].set_title('Distribution of Predictions')\n",
    "        axes[0].set_xlabel('Predictions')\n",
    "        axes[0].set_ylabel('Frequency')\n",
    "        axes[0].grid(True)\n",
    "\n",
    "        axes[1].hist(ytest, bins=30, alpha=0.7, color='red')\n",
    "        axes[1].set_title('Actual Values')\n",
    "        axes[1].set_xlabel('Values')\n",
    "        axes[1].set_ylabel('Frequency')\n",
    "        axes[1].grid(True)\n",
    "\n",
    "        plt.tight_layout()\n",
    "        plt.show()\n",
    "\n",
    "    if model_name in ['RandomForest', 'XGB', 'GBM']:\n",
    "        joblib.dump(model, f'{model_name}_critics_model.pkl')\n",
    "        print(f\"{model_name} model trained and saved.\")"
   ]
  },
  {
   "cell_type": "code",
   "execution_count": 759,
   "metadata": {},
   "outputs": [],
   "source": [
    "def pipeline_revenue(data, model_name):\n",
    "    feature, target = feat_and_target_revenue(data)\n",
    "    xtrain, xtest, ytrain, ytest = data_splitting(feature, target)\n",
    "    fit_model_revenue(model_name, xtrain, xtest, ytrain, ytest)\n",
    "def pipeline_critics(data, model_name):\n",
    "    feature, target = feat_and_target_critics(data)\n",
    "    xtrain, xtest, ytrain, ytest = data_splitting(feature, target)\n",
    "    fit_model_critics(model_name, xtrain, xtest, ytrain, ytest)\n",
    "\n",
    "#'XGB': Refers to the XGBoostRegressor model.\n",
    "#'RandomForest': Refers to the RandomForestRegressor model from scikit-learn.\n",
    "#'GBM': Refers to the GradientBoostingRegressor model from scikit-learn."
   ]
  },
  {
   "cell_type": "markdown",
   "metadata": {},
   "source": [
    "Inputs formation"
   ]
  },
  {
   "cell_type": "code",
   "execution_count": 760,
   "metadata": {},
   "outputs": [
    {
     "name": "stdout",
     "output_type": "stream",
     "text": [
      "Number of features is: 68\n",
      "(4753, 68)\n",
      "(5496, 66)\n"
     ]
    },
    {
     "name": "stderr",
     "output_type": "stream",
     "text": [
      "<ipython-input-760-bfa088969cc5>:13: SettingWithCopyWarning: \n",
      "A value is trying to be set on a copy of a slice from a DataFrame\n",
      "\n",
      "See the caveats in the documentation: https://pandas.pydata.org/pandas-docs/stable/user_guide/indexing.html#returning-a-view-versus-a-copy\n",
      "  inputs_filt.drop(columns=columns_to_drop, inplace=True)\n",
      "<ipython-input-760-bfa088969cc5>:16: SettingWithCopyWarning: \n",
      "A value is trying to be set on a copy of a slice from a DataFrame\n",
      "\n",
      "See the caveats in the documentation: https://pandas.pydata.org/pandas-docs/stable/user_guide/indexing.html#returning-a-view-versus-a-copy\n",
      "  play_data_bis.drop(columns=columns_to_drop, inplace=True)\n"
     ]
    }
   ],
   "source": [
    "to_keep = ['Revenue', 'IMDb rating','M-onehot_x', 'M-onehot_y', 'Runtime', 'Release year_x', 'United States of America-onehot', 'United Kingdom-onehot', 'India-onehot', 'Canada-onehot', 'Germany-onehot', 'Japan-onehot', 'South Korea-onehot', 'Argentina-onehot', 'France-onehot', 'United Kingodm-onehot', 'Spain-onehot', 'Ireland-onehot', 'Hong Kong-onehot', 'China-onehot', 'Russia-onehot', 'Australia-onehot', 'Italy-onehot', 'Mexico-onehot', 'New Zealand-onehot', 'Brazil-onehot', 'Belgium-onehot', 'Denmark-onehot', 'Sweden-onehot', 'Netherlands-onehot', 'Philippines-onehot', 'Thriller-onehot', 'Science Fiction-onehot', 'Horror-onehot', 'Adventure-onehot', 'Action-onehot', 'Drama-onehot', 'Comedy-onehot', 'Romance Film-onehot', 'Musical-onehot', 'Fantasy-onehot', 'Family Film-onehot', 'Crime Fiction-onehot', 'Indie-onehot', 'World cinema-onehot', 'Mystery-onehot', 'Black-and-white-onehot', 'Crime Thriller-onehot', 'Actor height_x', 'Actor age at release_x', 'F-onehot_x', 'White_x', 'Black/African American_x', 'South Asian_x', 'East Asian_x', 'American Indian/Alaska Native_x', 'Pacific Islander_x', 'Other_x', 'Actor height_y', 'Actor age at release_y', 'F-onehot_y', 'White_y', 'Black/African American_y', 'South Asian_y', 'East Asian_y', 'American Indian/Alaska Native_y', 'Pacific Islander_y', 'Other_y']\n",
    "#'Wins', 'Nominations','M-onehot_x', 'M-onehot_y'\n",
    "\n",
    "all_inputs = inputs[to_keep]\n",
    "inputs_filt = filtered_revenues_inputs[to_keep]\n",
    "\n",
    "print(\"Number of features is: \" + str(len(to_keep)))\n",
    "all_inputs = all_inputs.dropna()\n",
    "\n",
    "# List of columns to drop\n",
    "columns_to_drop = ['Actor height_x', 'Actor height_y']\n",
    "all_inputs.drop(columns = columns_to_drop, inplace=True)\n",
    "# Dropping the specified columns\n",
    "inputs_filt.drop(columns=columns_to_drop, inplace=True)\n",
    "inputs_filt = inputs_filt.dropna()\n",
    "play_data_bis = all_inputs.head(200)\n",
    "play_data_bis.drop(columns=columns_to_drop, inplace=True)\n",
    "play_data = inputs_filt.head(20)\n",
    "inputs_filt = inputs_filt[20:]\n",
    "\n",
    "print(all_inputs.shape)\n",
    "print(inputs_filt.shape)\n"
   ]
  },
  {
   "cell_type": "code",
   "execution_count": 761,
   "metadata": {},
   "outputs": [
    {
     "name": "stdout",
     "output_type": "stream",
     "text": [
      "Column 'Runtime' has 622 NaN values.\n",
      "Column 'IMDb rating' has 750 NaN values.\n",
      "Column 'Release year_x' has 0 NaN values.\n",
      "Column 'Adventure-onehot' has 0 NaN values.\n",
      "Column 'Drama-onehot' has 0 NaN values.\n",
      "Column 'Indie-onehot' has 0 NaN values.\n",
      "Column 'Actor age at release_x' has 619 NaN values.\n",
      "Column 'Actor age at release_y' has 867 NaN values.\n",
      "Column 'Revenue' has 4385 NaN values.\n",
      "(5875, 9)\n"
     ]
    }
   ],
   "source": [
    "inputs_interest = inputs[['Runtime', 'IMDb rating', 'Release year_x',\n",
    "                'Adventure-onehot', 'Drama-onehot', 'Indie-onehot',\n",
    "                'Actor age at release_x', 'Actor age at release_y', 'Revenue']]\n",
    "\n",
    "\n",
    "nan_counts = inputs_interest.isna().sum()\n",
    "\n",
    "for column, count in nan_counts.items():\n",
    "    print(f\"Column '{column}' has {count} NaN values.\")\n",
    "\n",
    "inputs_interest = inputs_interest.dropna()\n",
    "print(inputs_interest.shape)"
   ]
  },
  {
   "cell_type": "code",
   "execution_count": 808,
   "metadata": {},
   "outputs": [
    {
     "name": "stdout",
     "output_type": "stream",
     "text": [
      "RMSE: 0.8412237017443147\n",
      "Std: 0.9612159316707036\n",
      "Mean Absolut Error: 0.6494472730647342\n"
     ]
    },
    {
     "data": {
      "image/png": "[encoded data removed]",
      "text/plain": [
       "<Figure size 864x432 with 2 Axes>"
      ]
     },
     "metadata": {
      "needs_background": "light"
     },
     "output_type": "display_data"
    },
    {
     "name": "stdout",
     "output_type": "stream",
     "text": [
      "RandomForest model trained and saved.\n",
      "RMSE: 0.8806682315328703\n",
      "Std: 0.9612159316707036\n",
      "Mean Absolut Error: 0.6883965350852028\n"
     ]
    },
    {
     "data": {
      "image/png": "[encoded data removed]",
      "text/plain": [
       "<Figure size 864x432 with 2 Axes>"
      ]
     },
     "metadata": {
      "needs_background": "light"
     },
     "output_type": "display_data"
    },
    {
     "name": "stdout",
     "output_type": "stream",
     "text": [
      "XGB model trained and saved.\n",
      "RMSE: 0.8408872767016566\n",
      "Std: 0.9612159316707036\n",
      "Mean Absolut Error: 0.6503231675549365\n"
     ]
    },
    {
     "data": {
      "image/png": "[encoded data removed]",
      "text/plain": [
       "<Figure size 864x432 with 2 Axes>"
      ]
     },
     "metadata": {
      "needs_background": "light"
     },
     "output_type": "display_data"
    },
    {
     "name": "stdout",
     "output_type": "stream",
     "text": [
      "GBM model trained and saved.\n",
      "RMSE: 0.8553233653639876\n",
      "Std: 1.0590563403725917\n",
      "Mean Absolut Error: 0.6248073637163154\n"
     ]
    },
    {
     "data": {
      "image/png": "[encoded data removed]",
      "text/plain": [
       "<Figure size 864x432 with 2 Axes>"
      ]
     },
     "metadata": {
      "needs_background": "light"
     },
     "output_type": "display_data"
    },
    {
     "name": "stdout",
     "output_type": "stream",
     "text": [
      "RandomForest model trained and saved.\n",
      "RMSE: 0.8599733653444627\n",
      "Std: 1.0590563403725917\n",
      "Mean Absolut Error: 0.6389511452458863\n"
     ]
    },
    {
     "data": {
      "image/png": "[encoded data removed]",
      "text/plain": [
       "<Figure size 864x432 with 2 Axes>"
      ]
     },
     "metadata": {
      "needs_background": "light"
     },
     "output_type": "display_data"
    },
    {
     "name": "stdout",
     "output_type": "stream",
     "text": [
      "XGB model trained and saved.\n",
      "RMSE: 0.8542158225665307\n",
      "Std: 1.0590563403725917\n",
      "Mean Absolut Error: 0.621246380298408\n"
     ]
    },
    {
     "data": {
      "image/png": "[encoded data removed]",
      "text/plain": [
       "<Figure size 864x432 with 2 Axes>"
      ]
     },
     "metadata": {
      "needs_background": "light"
     },
     "output_type": "display_data"
    },
    {
     "name": "stdout",
     "output_type": "stream",
     "text": [
      "GBM model trained and saved.\n"
     ]
    }
   ],
   "source": [
    "pipeline_critics(all_inputs, 'RandomForest')\n",
    "pipeline_critics(all_inputs, 'XGB')\n",
    "pipeline_critics(all_inputs, 'GBM')\n",
    "\n",
    "pipeline_revenue(all_inputs, 'RandomForest')\n",
    "pipeline_revenue(all_inputs, 'XGB')\n",
    "pipeline_revenue(all_inputs, 'GBM')"
   ]
  },
  {
   "cell_type": "markdown",
   "metadata": {},
   "source": [
    "Hyperparameter tuning"
   ]
  },
  {
   "cell_type": "code",
   "execution_count": 809,
   "metadata": {},
   "outputs": [],
   "source": [
    "space_GBM = {\n",
    "    'max_depth': hp.quniform(\"max_depth\", 3, 18, 1),\n",
    "    'learning_rate': hp.uniform('learning_rate', 0.01, 0.3),\n",
    "    'n_estimators': hp.quniform('n_estimators', 50, 200, 10),\n",
    "    'min_samples_split': hp.quniform('min_samples_split', 2, 20, 1),\n",
    "    'min_samples_leaf': hp.quniform('min_samples_leaf', 1, 10, 1),\n",
    "    'subsample': hp.uniform('subsample', 0.5, 1)\n",
    "}"
   ]
  },
  {
   "cell_type": "code",
   "execution_count": 810,
   "metadata": {},
   "outputs": [],
   "source": [
    "space_RandomForest = {\n",
    "    'max_depth': hp.quniform(\"max_depth\", 3, 18, 1),\n",
    "    'n_estimators': hp.quniform('n_estimators', 50, 200, 10),\n",
    "    'min_samples_split': hp.quniform('min_samples_split', 2, 20, 1),\n",
    "    'min_samples_leaf': hp.quniform('min_samples_leaf', 1, 10, 1),\n",
    "    'max_features': hp.uniform('max_features', 0.5, 1)\n",
    "}"
   ]
  },
  {
   "cell_type": "code",
   "execution_count": 811,
   "metadata": {},
   "outputs": [],
   "source": [
    "space_XGB = {\n",
    "    'n_estimators': hp.quniform('n_estimators', 50, 500, 10),\n",
    "    'max_depth': hp.quniform('max_depth', 3, 15, 1),\n",
    "    'learning_rate': hp.uniform('learning_rate', 0.01, 0.3),\n",
    "    'subsample': hp.uniform('subsample', 0.5, 1),\n",
    "    'colsample_bytree': hp.uniform('colsample_bytree', 0.5, 1),\n",
    "    'gamma': hp.uniform('gamma', 0, 5),\n",
    "    'min_child_weight': hp.uniform('min_child_weight', 1, 10),\n",
    "    'reg_alpha': hp.uniform('reg_alpha', 0, 5),\n",
    "    'reg_lambda': hp.uniform('reg_lambda', 0, 5)\n",
    "}\n"
   ]
  },
  {
   "cell_type": "code",
   "execution_count": 812,
   "metadata": {},
   "outputs": [],
   "source": [
    "from sklearn.ensemble import GradientBoostingRegressor, RandomForestRegressor\n",
    "from xgboost import XGBRegressor\n",
    "from sklearn.model_selection import cross_val_score, KFold\n",
    "from hyperopt import hp, fmin, tpe, Trials, STATUS_OK\n",
    "import numpy as np\n",
    "\n",
    "def hyperopt_tuning(algo_type, space, data, goal):\n",
    "    if goal == 'Revenue':\n",
    "        feature, target = feat_and_target_revenue(data)\n",
    "    elif goal == 'Critics':\n",
    "        feature, target = feat_and_target_critics(data)\n",
    "    else:\n",
    "        raise ValueError(\"Goal not understood\")\n",
    "    xtrain, xtest, ytrain, ytest = data_splitting(feature, target)\n",
    "    def objective(space):\n",
    "        if algo_type == 'XGB':\n",
    "            clf = xgb.XGBRegressor(\n",
    "                n_estimators=int(space['n_estimators']),\n",
    "                max_depth=int(space['max_depth']),\n",
    "                learning_rate=space['learning_rate'],\n",
    "                subsample=space['subsample'],\n",
    "                colsample_bytree=space['colsample_bytree'],\n",
    "                gamma=space['gamma'],\n",
    "                min_child_weight=space['min_child_weight'],\n",
    "                reg_alpha=space['reg_alpha'],\n",
    "                reg_lambda=space['reg_lambda']\n",
    "            )\n",
    "        elif algo_type == 'GBM':\n",
    "            clf = GradientBoostingRegressor(\n",
    "                n_estimators=int(space['n_estimators']),\n",
    "                max_depth=int(space['max_depth']),\n",
    "                learning_rate=space['learning_rate'],\n",
    "                min_samples_split=int(space['min_samples_split']),\n",
    "                min_samples_leaf=int(space['min_samples_leaf']),\n",
    "                subsample=space['subsample'],\n",
    "                random_state=42\n",
    "            )\n",
    "        elif algo_type == 'RandomForest':\n",
    "            clf = RandomForestRegressor(\n",
    "                n_estimators=int(space['n_estimators']),\n",
    "                max_depth=int(space['max_depth']),\n",
    "                min_samples_split=int(space['min_samples_split']),\n",
    "                min_samples_leaf=int(space['min_samples_leaf']),\n",
    "                max_features=space['max_features'],\n",
    "                random_state=42\n",
    "            )\n",
    "        else:\n",
    "            raise ValueError(\"Invalid algorithm type. Supported types are 'XGB', 'GBM', 'RandomForest'\")\n",
    "        \n",
    "        kf = KFold(n_splits=10, shuffle=True, random_state=42)\n",
    "        mse_scores = cross_val_score(clf, xtrain, ytrain, cv=kf, scoring='neg_mean_squared_error')\n",
    "        mean_mse = np.mean(-mse_scores)\n",
    "        \n",
    "        return {'loss': mean_mse, 'status': STATUS_OK}\n",
    "    \n",
    "    trials = Trials()\n",
    "\n",
    "    best_hyperparams = fmin(fn = objective,\n",
    "                            space = space,\n",
    "                            algo = tpe.suggest,\n",
    "                            max_evals = 80,\n",
    "                            trials = trials)\n",
    "\n",
    "    for i, result in enumerate(trials.results):\n",
    "        hyperparameters = trials.trials[i]['misc']['vals']\n",
    "        score = result['loss']\n",
    "        print(f\"Trial {i+1}: Hyperparameters - {hyperparameters}, Score - {score}\")\n",
    "\n",
    "    \n",
    "    return best_hyperparams, trials\n"
   ]
  },
  {
   "cell_type": "code",
   "execution_count": 813,
   "metadata": {},
   "outputs": [],
   "source": [
    "#best_hyperparams, _ = hyperopt_tuning('XGB', space_XGB, inputs_filt, 'Critics')\n",
    "#print(\"The best hyperparameters are: \", best_hyperparams)"
   ]
  },
  {
   "cell_type": "markdown",
   "metadata": {},
   "source": [
    "Use models"
   ]
  },
  {
   "cell_type": "code",
   "execution_count": 814,
   "metadata": {},
   "outputs": [],
   "source": [
    "def use_models_critics(data, model):\n",
    "    real_ratings = data['IMDb rating']\n",
    "    real_ratings = real_ratings.to_list()\n",
    "\n",
    "    data = data.drop(['IMDb rating', 'Revenue'], axis = 1)\n",
    "\n",
    "    if model == 'RandomForest':\n",
    "        loaded_model = joblib.load('RandomForest_critics_model.pkl')\n",
    "    elif model == 'XGB':\n",
    "        loaded_model = joblib.load('XGB_critics_model.pkl')\n",
    "    elif model == 'GBM':\n",
    "        loaded_model = joblib.load('GBM_critics_model.pkl')\n",
    "    else:\n",
    "        raise ValueError(\"Invalid model type\")\n",
    "\n",
    "    unseen_data_predictions = loaded_model.predict(data)\n",
    "    abs_element_wise_difference = [abs(x - y) for x, y in zip(real_ratings, unseen_data_predictions)]\n",
    "    print(abs_element_wise_difference)\n",
    "    list_mean = sum(abs_element_wise_difference) / len(abs_element_wise_difference)\n",
    "    print(list_mean)"
   ]
  },
  {
   "cell_type": "code",
   "execution_count": 815,
   "metadata": {},
   "outputs": [],
   "source": [
    "def use_models_revenue(data, model):\n",
    "    real_revenue = data['Revenue']\n",
    "    real_revenue = real_revenue.to_list()\n",
    "\n",
    "    data = data.drop(['IMDb rating', 'Revenue'], axis = 1)\n",
    "\n",
    "    if model == 'RandomForest':\n",
    "        loaded_model = joblib.load('RandomForest_revenue_model.pkl')\n",
    "    elif model == 'XGB':\n",
    "        loaded_model = joblib.load('XGB_revenue_model.pkl')\n",
    "    elif model == 'GBM':\n",
    "        loaded_model = joblib.load('GBM_revenue_model.pkl')\n",
    "    else:\n",
    "        raise ValueError(\"Invalid model type\")\n",
    "\n",
    "    unseen_data_predictions = np.power(10, loaded_model.predict(data))\n",
    "    abs_element_wise_difference = [abs(x - y) for x, y in zip(real_revenue, unseen_data_predictions)]\n",
    "    print(abs_element_wise_difference)\n",
    "    list_mean = sum(abs_element_wise_difference) / len(abs_element_wise_difference)\n",
    "    print(list_mean)"
   ]
  },
  {
   "cell_type": "code",
   "execution_count": 816,
   "metadata": {},
   "outputs": [
    {
     "ename": "ValueError",
     "evalue": "The feature names should match those that were passed during fit.\nFeature names seen at fit time, yet now missing:\n- Actor height_x\n- Actor height_y\n",
     "output_type": "error",
     "traceback": [
      "\u001b[1;31m---------------------------------------------------------------------------\u001b[0m",
      "\u001b[1;31mValueError\u001b[0m                                Traceback (most recent call last)",
      "\u001b[1;32m<ipython-input-816-3247104cafb5>\u001b[0m in \u001b[0;36m<module>\u001b[1;34m\u001b[0m\n\u001b[1;32m----> 1\u001b[1;33m \u001b[0muse_models_critics\u001b[0m\u001b[1;33m(\u001b[0m\u001b[0mplay_data_bis\u001b[0m\u001b[1;33m,\u001b[0m \u001b[1;34m'RandomForest'\u001b[0m\u001b[1;33m)\u001b[0m\u001b[1;33m\u001b[0m\u001b[1;33m\u001b[0m\u001b[0m\n\u001b[0m",
      "\u001b[1;32m<ipython-input-814-81ed1f968610>\u001b[0m in \u001b[0;36muse_models_critics\u001b[1;34m(data, model)\u001b[0m\n\u001b[0;32m     14\u001b[0m         \u001b[1;32mraise\u001b[0m \u001b[0mValueError\u001b[0m\u001b[1;33m(\u001b[0m\u001b[1;34m\"Invalid model type\"\u001b[0m\u001b[1;33m)\u001b[0m\u001b[1;33m\u001b[0m\u001b[1;33m\u001b[0m\u001b[0m\n\u001b[0;32m     15\u001b[0m \u001b[1;33m\u001b[0m\u001b[0m\n\u001b[1;32m---> 16\u001b[1;33m     \u001b[0munseen_data_predictions\u001b[0m \u001b[1;33m=\u001b[0m \u001b[0mloaded_model\u001b[0m\u001b[1;33m.\u001b[0m\u001b[0mpredict\u001b[0m\u001b[1;33m(\u001b[0m\u001b[0mdata\u001b[0m\u001b[1;33m)\u001b[0m\u001b[1;33m\u001b[0m\u001b[1;33m\u001b[0m\u001b[0m\n\u001b[0m\u001b[0;32m     17\u001b[0m     \u001b[0mabs_element_wise_difference\u001b[0m \u001b[1;33m=\u001b[0m \u001b[1;33m[\u001b[0m\u001b[0mabs\u001b[0m\u001b[1;33m(\u001b[0m\u001b[0mx\u001b[0m \u001b[1;33m-\u001b[0m \u001b[0my\u001b[0m\u001b[1;33m)\u001b[0m \u001b[1;32mfor\u001b[0m \u001b[0mx\u001b[0m\u001b[1;33m,\u001b[0m \u001b[0my\u001b[0m \u001b[1;32min\u001b[0m \u001b[0mzip\u001b[0m\u001b[1;33m(\u001b[0m\u001b[0mreal_ratings\u001b[0m\u001b[1;33m,\u001b[0m \u001b[0munseen_data_predictions\u001b[0m\u001b[1;33m)\u001b[0m\u001b[1;33m]\u001b[0m\u001b[1;33m\u001b[0m\u001b[1;33m\u001b[0m\u001b[0m\n\u001b[0;32m     18\u001b[0m     \u001b[0mprint\u001b[0m\u001b[1;33m(\u001b[0m\u001b[0mabs_element_wise_difference\u001b[0m\u001b[1;33m)\u001b[0m\u001b[1;33m\u001b[0m\u001b[1;33m\u001b[0m\u001b[0m\n",
      "\u001b[1;32mc:\\Users\\Home\\anaconda3\\lib\\site-packages\\sklearn\\ensemble\\_forest.py\u001b[0m in \u001b[0;36mpredict\u001b[1;34m(self, X)\u001b[0m\n\u001b[0;32m    982\u001b[0m         \u001b[0mcheck_is_fitted\u001b[0m\u001b[1;33m(\u001b[0m\u001b[0mself\u001b[0m\u001b[1;33m)\u001b[0m\u001b[1;33m\u001b[0m\u001b[1;33m\u001b[0m\u001b[0m\n\u001b[0;32m    983\u001b[0m         \u001b[1;31m# Check data\u001b[0m\u001b[1;33m\u001b[0m\u001b[1;33m\u001b[0m\u001b[1;33m\u001b[0m\u001b[0m\n\u001b[1;32m--> 984\u001b[1;33m         \u001b[0mX\u001b[0m \u001b[1;33m=\u001b[0m \u001b[0mself\u001b[0m\u001b[1;33m.\u001b[0m\u001b[0m_validate_X_predict\u001b[0m\u001b[1;33m(\u001b[0m\u001b[0mX\u001b[0m\u001b[1;33m)\u001b[0m\u001b[1;33m\u001b[0m\u001b[1;33m\u001b[0m\u001b[0m\n\u001b[0m\u001b[0;32m    985\u001b[0m \u001b[1;33m\u001b[0m\u001b[0m\n\u001b[0;32m    986\u001b[0m         \u001b[1;31m# Assign chunk of trees to jobs\u001b[0m\u001b[1;33m\u001b[0m\u001b[1;33m\u001b[0m\u001b[1;33m\u001b[0m\u001b[0m\n",
      "\u001b[1;32mc:\\Users\\Home\\anaconda3\\lib\\site-packages\\sklearn\\ensemble\\_forest.py\u001b[0m in \u001b[0;36m_validate_X_predict\u001b[1;34m(self, X)\u001b[0m\n\u001b[0;32m    597\u001b[0m         Validate X whenever one tries to predict, apply, predict_proba.\"\"\"\n\u001b[0;32m    598\u001b[0m         \u001b[0mcheck_is_fitted\u001b[0m\u001b[1;33m(\u001b[0m\u001b[0mself\u001b[0m\u001b[1;33m)\u001b[0m\u001b[1;33m\u001b[0m\u001b[1;33m\u001b[0m\u001b[0m\n\u001b[1;32m--> 599\u001b[1;33m         \u001b[0mX\u001b[0m \u001b[1;33m=\u001b[0m \u001b[0mself\u001b[0m\u001b[1;33m.\u001b[0m\u001b[0m_validate_data\u001b[0m\u001b[1;33m(\u001b[0m\u001b[0mX\u001b[0m\u001b[1;33m,\u001b[0m \u001b[0mdtype\u001b[0m\u001b[1;33m=\u001b[0m\u001b[0mDTYPE\u001b[0m\u001b[1;33m,\u001b[0m \u001b[0maccept_sparse\u001b[0m\u001b[1;33m=\u001b[0m\u001b[1;34m\"csr\"\u001b[0m\u001b[1;33m,\u001b[0m \u001b[0mreset\u001b[0m\u001b[1;33m=\u001b[0m\u001b[1;32mFalse\u001b[0m\u001b[1;33m)\u001b[0m\u001b[1;33m\u001b[0m\u001b[1;33m\u001b[0m\u001b[0m\n\u001b[0m\u001b[0;32m    600\u001b[0m         \u001b[1;32mif\u001b[0m \u001b[0missparse\u001b[0m\u001b[1;33m(\u001b[0m\u001b[0mX\u001b[0m\u001b[1;33m)\u001b[0m \u001b[1;32mand\u001b[0m \u001b[1;33m(\u001b[0m\u001b[0mX\u001b[0m\u001b[1;33m.\u001b[0m\u001b[0mindices\u001b[0m\u001b[1;33m.\u001b[0m\u001b[0mdtype\u001b[0m \u001b[1;33m!=\u001b[0m \u001b[0mnp\u001b[0m\u001b[1;33m.\u001b[0m\u001b[0mintc\u001b[0m \u001b[1;32mor\u001b[0m \u001b[0mX\u001b[0m\u001b[1;33m.\u001b[0m\u001b[0mindptr\u001b[0m\u001b[1;33m.\u001b[0m\u001b[0mdtype\u001b[0m \u001b[1;33m!=\u001b[0m \u001b[0mnp\u001b[0m\u001b[1;33m.\u001b[0m\u001b[0mintc\u001b[0m\u001b[1;33m)\u001b[0m\u001b[1;33m:\u001b[0m\u001b[1;33m\u001b[0m\u001b[1;33m\u001b[0m\u001b[0m\n\u001b[0;32m    601\u001b[0m             \u001b[1;32mraise\u001b[0m \u001b[0mValueError\u001b[0m\u001b[1;33m(\u001b[0m\u001b[1;34m\"No support for np.int64 index based sparse matrices\"\u001b[0m\u001b[1;33m)\u001b[0m\u001b[1;33m\u001b[0m\u001b[1;33m\u001b[0m\u001b[0m\n",
      "\u001b[1;32mc:\\Users\\Home\\anaconda3\\lib\\site-packages\\sklearn\\base.py\u001b[0m in \u001b[0;36m_validate_data\u001b[1;34m(self, X, y, reset, validate_separately, cast_to_ndarray, **check_params)\u001b[0m\n\u001b[0;32m    578\u001b[0m             \u001b[0mvalidated\u001b[0m\u001b[1;33m.\u001b[0m\u001b[1;33m\u001b[0m\u001b[1;33m\u001b[0m\u001b[0m\n\u001b[0;32m    579\u001b[0m         \"\"\"\n\u001b[1;32m--> 580\u001b[1;33m         \u001b[0mself\u001b[0m\u001b[1;33m.\u001b[0m\u001b[0m_check_feature_names\u001b[0m\u001b[1;33m(\u001b[0m\u001b[0mX\u001b[0m\u001b[1;33m,\u001b[0m \u001b[0mreset\u001b[0m\u001b[1;33m=\u001b[0m\u001b[0mreset\u001b[0m\u001b[1;33m)\u001b[0m\u001b[1;33m\u001b[0m\u001b[1;33m\u001b[0m\u001b[0m\n\u001b[0m\u001b[0;32m    581\u001b[0m \u001b[1;33m\u001b[0m\u001b[0m\n\u001b[0;32m    582\u001b[0m         \u001b[1;32mif\u001b[0m \u001b[0my\u001b[0m \u001b[1;32mis\u001b[0m \u001b[1;32mNone\u001b[0m \u001b[1;32mand\u001b[0m \u001b[0mself\u001b[0m\u001b[1;33m.\u001b[0m\u001b[0m_get_tags\u001b[0m\u001b[1;33m(\u001b[0m\u001b[1;33m)\u001b[0m\u001b[1;33m[\u001b[0m\u001b[1;34m\"requires_y\"\u001b[0m\u001b[1;33m]\u001b[0m\u001b[1;33m:\u001b[0m\u001b[1;33m\u001b[0m\u001b[1;33m\u001b[0m\u001b[0m\n",
      "\u001b[1;32mc:\\Users\\Home\\anaconda3\\lib\\site-packages\\sklearn\\base.py\u001b[0m in \u001b[0;36m_check_feature_names\u001b[1;34m(self, X, reset)\u001b[0m\n\u001b[0;32m    505\u001b[0m                 )\n\u001b[0;32m    506\u001b[0m \u001b[1;33m\u001b[0m\u001b[0m\n\u001b[1;32m--> 507\u001b[1;33m             \u001b[1;32mraise\u001b[0m \u001b[0mValueError\u001b[0m\u001b[1;33m(\u001b[0m\u001b[0mmessage\u001b[0m\u001b[1;33m)\u001b[0m\u001b[1;33m\u001b[0m\u001b[1;33m\u001b[0m\u001b[0m\n\u001b[0m\u001b[0;32m    508\u001b[0m \u001b[1;33m\u001b[0m\u001b[0m\n\u001b[0;32m    509\u001b[0m     def _validate_data(\n",
      "\u001b[1;31mValueError\u001b[0m: The feature names should match those that were passed during fit.\nFeature names seen at fit time, yet now missing:\n- Actor height_x\n- Actor height_y\n"
     ]
    }
   ],
   "source": [
    "use_models_critics(play_data_bis, 'RandomForest')"
   ]
  },
  {
   "cell_type": "code",
   "execution_count": null,
   "metadata": {},
   "outputs": [
    {
     "name": "stdout",
     "output_type": "stream",
     "text": [
      "[0.9074107170104977, 0.004844188690185547, 0.06375656127929652, 0.7440923690795902, 0.1965479850769043, 0.4739636421203617, 2.202563762664795, 0.10377397537231481, 0.14336795806884783, 0.7649015426635746, 0.07726984024047834, 1.576129055023193, 0.4687337875366211, 0.3612337112426758, 0.17922687530517578, 0.7749308586120609, 0.770197105407715, 0.1462884902954098, 0.13168163299560565, 0.04458837509155256, 0.07334327697753906, 0.41589374542236346, 0.5880960464477543, 0.060192108154296875, 0.14790115356445277, 0.11497735977172852, 0.22934312820434588, 0.010037803649902699, 0.07117996215820277, 0.8394879341125492, 0.08978939056396484, 0.09232587814331072, 0.28570480346679705, 1.031704616546631, 0.27211818695068324, 0.18579416275024396, 0.07877330780029279, 0.1508567810058592, 0.019740676879882457, 0.2505838394165041, 0.964619827270508, 0.08533153533935511, 0.1355502128601076, 0.5662283897399902, 0.6829221725463865, 0.13469705581665004, 0.42090320587158203, 0.2762323379516598, 0.6476626396179199, 0.4626321792602539, 0.7113788604736326, 0.18342828750610352, 0.014078330993652521, 0.05699577331543004, 0.25998592376708984, 0.4840112686157223, 0.001432991027831676, 0.7935124397277833, 0.34197826385498065, 0.12297363281250018, 0.03028726577758789, 0.30050973892211896, 0.08709506988525373, 0.183952045440674, 0.19692173004150426, 0.3361284255981447, 0.06175003051757777, 0.023917484283447088, 0.04518022537231481, 0.001434993743896662, 1.1216606140136722, 0.28259201049804705, 1.2025279045104984, 0.0016191482543943536, 0.6935240745544435, 0.06132850646972621, 2.602518081665039, 1.0604252815246582, 0.5377023696899412, 0.05167446136474574, 0.353071308135986, 0.5884857177734375, 1.447275161743164, 0.003762626647949574, 0.23694305419921857, 0.07727718353271484, 0.09245910644531286, 0.07737216949462855, 0.006651306152344105, 0.34428825378418004, 0.3149404525756836, 0.14910087585449183, 0.054241371154785334, 0.22254381179809535, 1.6765463829040534, 0.29690570831298846, 0.5288125038146969, 0.05673694610595703, 0.22714347839355487, 0.03670806884765643, 0.44318437576293945, 3.5187481880187987, 0.27991523742675817, 0.47250299453735334, 0.12591390609741193, 0.24775085449218714, 0.08071660995483398, 0.03159751892089879, 0.47282133102416957, 0.18313827514648473, 0.40456991195678693, 1.3028212547302243, 0.6446339607238771, 0.4144473075866699, 0.16570873260498065, 0.035970020294189275, 0.39652404785156214, 0.043229675292968395, 0.6520730972290041, 0.18701534271240217, 0.1721348762512207, 0.10708560943603551, 0.04709281921386754, 0.09732389450073242, 0.3210179328918459, 0.02078638076782191, 0.071510601043701, 0.24726438522338867, 0.10513362884521449, 0.20367984771728498, 0.3583054542541504, 0.22564144134521502, 0.5179983139038082, 0.014903068542480469, 0.22270860671997106, 0.36849603652954066, 1.2519042968749998, 0.02580242156982404, 0.007891464233399148, 0.21787557601928675, 0.0333379745483402, 0.30899171829223615, 0.01838769912719762, 0.31443901062011737, 0.04653949737548846, 0.19967737197876012, 0.27028121948242223, 0.1886054992675783, 0.4764095306396481, 0.18061666488647443, 0.005085849761963246, 0.421315765380859, 0.03441371917724645, 0.12814064025878924, 0.5467622756958006, 0.17066736221313494, 0.5384211540222168, 0.06330404281616175, 0.005765342712402699, 0.41255903244018555, 0.04155874252319336, 0.07207393646240234, 0.28270635604858363, 0.13314466476440412, 0.4291417121887209, 0.0734567642211914, 1.0012530326843265, 0.09632902145385724, 0.036384296417236506, 1.2087425231933597, 0.33243894577026367, 0.056964015960693004, 0.3320691108703615, 0.0729128837585451, 0.8101366996765136, 0.5946064949035641, 0.09568300247192418, 1.0649404525756836, 0.2710006713867186, 0.11598329544067365, 0.11080751419067347, 0.01070051193237287, 0.3833239555358885, 0.36401042938232386, 0.5137255668640135, 0.33894071578979457, 0.19502277374267596, 0.267835712432861, 0.2536152839660648, 0.43828535079956055, 0.33817434310913086, 0.042646980285644176, 0.40240211486816335, 0.535732936859131, 0.6013295173645021, 1.3201894760131836, 0.10978736877441442, 0.13060598373413068, 0.13567800521850604, 0.12651672363281286]\n",
      "0.3548816771507263\n"
     ]
    }
   ],
   "source": [
    "use_models_critics(play_data_bis, 'XGB')"
   ]
  },
  {
   "cell_type": "code",
   "execution_count": null,
   "metadata": {},
   "outputs": [
    {
     "name": "stdout",
     "output_type": "stream",
     "text": [
      "[0.5520483104219993, 0.2798769191394044, 0.20792305785873655, 0.7506706539751162, 0.02920301612444831, 0.7603883332647046, 1.1562153536212447, 0.35867277050052593, 0.27090301906145076, 0.44196422615423536, 0.4893351254121523, 1.0386341645626533, 0.16467444119944474, 0.42840830109537986, 0.3066318933277774, 0.3859251599392266, 0.39097693742691586, 1.5816023502556975, 0.015087993962461077, 0.34296037289020553, 0.08019909118094493, 1.0282909372369797, 1.1921874828075198, 0.0881305602433109, 0.20541855929884534, 0.20987524342477393, 0.06673968741360081, 0.6832715617752152, 0.10128091244812776, 0.9544337950661124, 0.15131319116733621, 0.1811362340739313, 1.071384944956563, 0.9071513721173945, 0.3598157482944906, 1.010589060012279, 0.5603684955401951, 1.9647027115950442, 0.41213689436119605, 0.5058786414623553, 0.18754687292047123, 0.21365588040574846, 0.37320569272385473, 0.5594615130560596, 0.8336608335814022, 0.11631752094802117, 1.4652805282767947, 0.46796414031728517, 0.9876824219543794, 0.5101028560502012, 0.5147340096124307, 0.7469693208345598, 0.2545315397594221, 0.7793205046706735, 0.3326055186791912, 0.9952185208755546, 0.3025896955641647, 1.475681157942501, 0.4609449152320506, 0.03141990030043029, 0.1852753966641565, 1.202253849142954, 0.3969075633082344, 0.04705381162244304, 1.0225784490422036, 0.8325921130993317, 0.5476591364144445, 0.03599498923890909, 0.4275684018910617, 0.19391896053177948, 0.7756141836161188, 0.346236038961794, 1.0018544168660695, 0.2146107096577996, 0.5413515972789158, 0.058077439065836955, 2.4851944624881215, 1.078328476598065, 1.2164479140713187, 0.1839918060427621, 1.166113004757345, 0.5379673809739662, 1.0693188681416839, 0.12458002318049832, 0.6569803546076161, 0.03845210515176589, 0.3158804846352403, 0.2721922399376382, 0.21213497105303425, 1.4002518461642728, 0.7267416516753205, 0.2802543702919884, 0.15272089243095177, 0.1796941699486183, 2.419837027506131, 0.9511563843579935, 0.5874380686589671, 0.626060419920945, 0.35855316717778685, 0.6333933892640013, 0.35319319162180474, 3.633602418179789, 1.039781077165281, 0.39879378724359515, 0.06990319674164791, 0.5256546754742564, 1.1821819765742108, 0.0034137556710653882, 0.5636009142392986, 0.44870136575580943, 0.7343213246538527, 1.353737695374222, 0.10266635736815566, 0.5555401990963489, 0.2813842239168993, 0.06054924139139395, 1.318907004539562, 0.13989419202957798, 1.5247439384460773, 0.7484428506645671, 0.49143173928592176, 0.5607795314836945, 0.7321082661821414, 0.16040293198055533, 0.35713335058770745, 0.754347055547286, 0.1879587184273266, 0.7869248090127474, 0.4600565347930168, 0.35132807616165085, 0.2980912385879968, 0.061132346517321245, 0.40047273826242336, 0.29975787762421024, 0.3254583475779098, 0.12148828914931276, 1.204509078370191, 0.19168109320512627, 0.8138910350189796, 0.12986334664713528, 0.6470279766718185, 0.41303016575824447, 0.07680806067085655, 0.260496520238382, 0.14424715635982466, 0.24694046206848075, 0.13620959143700784, 0.33356632972095035, 0.13912670032668117, 0.6757145916420395, 0.371182517695412, 0.6296298798108406, 0.30905418473028057, 0.2390812335830983, 0.5239932195285864, 0.3887308065449222, 0.7195874764588712, 0.3305296057238092, 0.08182542948386828, 0.6448283064661053, 0.24756291119345253, 0.5317678055822386, 0.4347023952950755, 0.4966352412077306, 0.5309364589865213, 0.592624978505194, 1.3078232052844827, 0.2176945980627618, 0.01586801601078669, 1.0841232864641173, 0.6387925174664755, 0.40078853482287435, 0.3072289607999963, 0.5319634201479628, 2.0500718600306818, 0.577061688811968, 1.1134791803235489, 0.9103250039274462, 0.04465466508852067, 0.08738325403520797, 0.6454246776770125, 0.4930095032649744, 1.166758013402383, 0.4776812371787509, 1.7228425584995826, 1.180862078309013, 0.19379034258797212, 0.43535340843022485, 1.7226669291158583, 0.4623018510545558, 0.060406625623140364, 0.398564994940096, 1.4246220909020302, 0.29872464611583105, 1.2415992524896247, 3.593040818846287, 0.17028550643581042, 0.6987081450889177, 0.7452442530037597, 0.6602903411835035]\n",
      "0.5987581833274992\n"
     ]
    }
   ],
   "source": [
    "use_models_critics(play_data_bis, 'GBM')"
   ]
  },
  {
   "cell_type": "code",
   "execution_count": null,
   "metadata": {},
   "outputs": [
    {
     "name": "stdout",
     "output_type": "stream",
     "text": [
      "[36045485.08155681, 590532.1059298068, 18299527.311702676, 1862250.0353168822, 37766207.2842034, 8470171.547596741, 2024749.3560215477, 64261740.92929958, 12103674.293453412, 31733923.72344993, 1625901476.188301, 25086062.201613262, 38057332.967721224, 46336436.58118539, 122591092.67671368, 1152669761.2304423, 22200274.50680531, 1471757.6043516737, 9633131.8930763, 154391673.14619052, 2856944.9083836265, 34001332.03327728, 1613621.9706217875, 188823768.20253342, 536839.0820297189, 21906273.351522423, 8235867.093544812, 31691805.162121877, 6098835.3913837075, 30852010.75554253, 20881668.10313363, 13698995.224150307, 10418419.89314996, 20393353.758234072, 29297732.434396025, 23085309.22448443, 29823145.569190312, 829996.143287531, 141423483.8932854, 64944952.29923161, 389998.8785019077, 171549.06707367627, 595626718.6301672, 118397047.76297046, 20269958.723711945, 7001539.201648066, 16335822.026482234, 10041320.282775344, 7370282.408184081, 86319478.92937806, 592746059.2618103, 22684331.432354163, 130913.05660235882, 96443043.6214227, 3910911.541091519, 11806967.299919315, 31334183.729406938, 31497486.97323235, 11238851.395450598, 15717895.134427, 20932147.76754742, 19779916.40978168, 12002020.224747017, 43097893.68917947, 11049053.614043804, 63965597.35311573, 9784918.665438674, 163071847.22342324, 25301910.012971655, 9428979.163074771, 1209338.291521607, 3361233.3550232016, 9357367.200821623, 168819515.0227795, 8815682.608320192, 1606354.9832750298, 2275670.9309831904, 1791399.749626297, 21841650.04389844, 710853032.258449, 337113029.07579243, 2714035.3084755507, 844659695.7242303, 1227177.1565517867, 23436698.72564505, 114801897.39354342, 23012452.7616318, 17409819.529073734, 8922044.339821398, 17087842.097962864, 19457896.92706636, 6436404.429452091, 23354545.669841014, 7022442.122952834, 1043509.7442228533, 64771843.359594926, 890676.2285588309, 117073908.33592163, 6254384.411694065, 20341236.082720425, 5043593.632416762, 34595685.12424922, 50592546.166603826, 65300820.28828332, 23138143.371231996, 604858653.3704175, 9356381.647344524, 20571466.840296943, 245177756.904175, 5603868.97912322, 43901669.609757334, 51933433.35766605, 73888740.53522988, 149918520.71668878, 2763340.625767529, 10831812.036875762, 28938956.36746259, 627082.4269567064, 264274926.61274526, 18729861.772535324, 21498796.519292776, 59476660.63264119, 11614149.41271089, 53282394.41098561, 15621604.253954472, 121288615.47588012, 49358183.76874328, 18109228.15380375, 9644633.98784019, 25942988.524040043, 527039603.5239301, 96000195.201103, 594094788.4032091, 6039285.276956618, 456721801.4702534, 13364022.9570902, 37597321.359469846, 37120087.90143173, 108166102.09508757, 184444533.83561283, 23797994.3039198, 88495658.7950162, 29140613.651499335, 17375367.54062058, 401549656.9259951, 233646874.88438466, 15188057.364520334, 21469962.448148027, 18513090.49881026, 14735873.796166092, 352433407.3527742, 14595331.144536898, 1040407.5161861232, 14656936.410521118, 420280347.2330224, 17995220.75225431, 19299208.83809383, 1938353.000920179, 36293927.19766565, 35408378.01333317, 28539421.185722247, 15004994.543973193, 69199321.34312141, 12954518.633874465, 15722080.645100996, 158085855.30129156, 35377736.68732949, 15648305.527594507, 11583824.51720925, 1186481907.0070586, 3322462.048557624, 1008046.765855819, 2385709.406209663, 85111126.91372257, 68439851.74844207, 38882197.973837085, 414246.99309252365, 14755375.97022465, 651192.4866477652, 2542495.88753609, 10142773.927441865, 21043619.501715798, 689786192.1298138, 87060687.93931933, 2368955.1799632683, 30832434.625491768, 62081083.726297565, 369121.9957576329, 845648.0169621855, 1204589.9190088063, 7879335.636321308, 380969472.82846385, 21982499.062720045, 206130813.7953138, 17478058.174979076, 31198427.25233163, 25408128.654586095, 531717977.28225136, 218948034.45166054, 13252420.33358663]\n",
      "93994304.56873238\n"
     ]
    }
   ],
   "source": [
    "use_models_revenue(play_data_bis, 'RandomForest')"
   ]
  },
  {
   "cell_type": "code",
   "execution_count": null,
   "metadata": {},
   "outputs": [
    {
     "name": "stdout",
     "output_type": "stream",
     "text": [
      "[21537861.67950311, 11813377.805201609, 4101789.2642857134, 2506626.345114087, 25005797.208185486, 12487969.259786472, 2120410.9398369566, 70261222.18181819, 9655307.81892361, 23571397.687407404, 1662393097.8503065, 27818973.196211066, 44563722.48062621, 36902532.07058824, 120238120.68711653, 1181152531.7329752, 21397945.191619936, 2767336.7080730544, 3850703.938839942, 171943189.6963471, 4165744.502815392, 34018109.11866042, 2784104.9194478528, 184160508.02250335, 10803269.500044014, 8855031.564675754, 9024818.638878267, 47286689.58935484, 1288534.0080392137, 15232777.84175378, 7659034.408823527, 4406219.856115095, 5720805.732837539, 24443456.170394737, 21623207.21095818, 51988206.56338583, 41064040.79317699, 2082839.7431550268, 143355071.8937601, 70649469.65932132, 1282360.0932930708, 1275126.3627329194, 618126657.7548473, 112682755.25968844, 32795168.347601246, 20350008.43445693, 23653811.079365082, 18620116.358918004, 13510565.3922913, 93099480.51748171, 576991494.7096773, 17727401.04093866, 10903432.413793106, 98753801.69463924, 2211289.879157609, 5684818.232931733, 32102565.142857134, 38670032.92398554, 18978295.309945434, 28732422.959477488, 33212278.415725797, 21848856.00051021, 25892811.075900115, 33750901.82589028, 48183016.41744323, 21539935.86024352, 13293653.226542689, 191522145.86884123, 11959528.646860465, 6687186.195232058, 2658650.0804418353, 3269436.1683229813, 13584525.0129892, 182560893.10459185, 11072923.47643172, 414426.94689441007, 2792638.543897053, 2133361.632282608, 30761932.196006157, 773514894.3038292, 317156332.50619566, 3617723.2797503644, 847673441.9569443, 2536798.7587777684, 30390634.438299045, 133423914.0720708, 18615570.75, 10447927.661130715, 3878547.3044871762, 11490430.85436894, 10212480.815395571, 55561587.72839746, 24505204.074589416, 11929230.729786709, 7350009.061122041, 68745721.12854835, 21912039.737524807, 128175064.66666663, 10688871.555555552, 16968603.844660185, 28787954.07574224, 39174073.614384085, 68394515.17258064, 50184920.211158216, 19099845.43311526, 676115879.653675, 16174492.36122449, 17341372.429896906, 255742415.19189632, 5409243.913631551, 80100943.26959579, 51118063.16347992, 20357773.128015563, 165255729.1242236, 6081909.513108619, 18512124.652846057, 48130330.412455976, 2283425.9332821304, 263527675.51510918, 36861662.75887529, 30337582.090195168, 75704136.05078565, 30411140.072351303, 39769375.98599428, 15440670.357582454, 133565027.19719428, 56694807.21217473, 13258763.834234998, 11813384.48499044, 56562343.5529556, 536136647.59040487, 75238552.98303096, 597742885.753125, 6909373.764619559, 679234751.5450572, 14031320.486011906, 9719726.669444442, 157958705.75920635, 176700753.91713396, 258960413.0, 61414235.25133929, 102493447.86201692, 52988713.829153016, 26363342.67452181, 581525537.8613861, 227537234.61085886, 35060869.19233215, 28095557.359227344, 22041667.681161977, 46950453.18189962, 440180601.97251976, 44519784.106449716, 10504429.570496894, 24707609.72814516, 429662163.0658823, 23959680.06847931, 15982794.922432642, 2440186.999404366, 57151799.328047045, 38801184.52313575, 45557786.98253968, 9946240.43298968, 68934605.76273291, 19424047.390629962, 8060593.6272466555, 179697531.8725233, 68419061.89732715, 15979239.381366447, 13430363.9104251, 1248885083.629266, 19107284.546583846, 21009835.363479704, 7530631.354193418, 81385261.53714278, 58358268.44544135, 24210363.03866397, 721338.4604951595, 14437390.961835492, 616769.7640854251, 277604.3501587156, 14919383.168859117, 22754516.40967204, 743734628.090306, 61271936.43410435, 6443477.2010283545, 20953165.81495428, 63119768.31279527, 2082189.472197421, 2971664.2930107526, 8010373.647740968, 7943211.780102041, 374404513.34973633, 20729096.4, 211890927.5273292, 16925689.93594306, 30838085.846312433, 27335296.053085376, 564521934.3819196, 223842744.8761559, 23783765.54431326]\n",
      "102752396.32092232\n"
     ]
    }
   ],
   "source": [
    "use_models_revenue(play_data_bis, 'XGB')"
   ]
  },
  {
   "cell_type": "code",
   "execution_count": null,
   "metadata": {},
   "outputs": [
    {
     "name": "stdout",
     "output_type": "stream",
     "text": [
      "[45961863.090858996, 5206603.993063975, 3668589.8154627234, 1297276.2694032756, 29206389.943815835, 6562931.761348933, 2729917.581542198, 76026835.65981103, 13045248.974075697, 28324994.315660812, 1547521361.0581858, 30007056.40995953, 41297844.36203665, 21281128.772174723, 95810051.3336761, 1064483844.1638862, 19897006.556836046, 1566461.803106255, 9562533.349198833, 165610786.98718718, 5116365.808785653, 42891142.730529256, 1940106.3823952286, 190341589.71173695, 5165286.772114847, 22620640.385517165, 5665425.733697486, 28846087.629973277, 6618066.007338479, 9245950.450850919, 17449833.620437976, 15367646.07366971, 8648287.272665698, 14700097.900021458, 35943450.40166787, 57160104.978856206, 66218814.67404943, 1017970.4395543813, 142736082.826026, 65875984.59542697, 344532.4584897865, 77960.13877448416, 624015696.280947, 137410366.06747615, 22288699.69172819, 16452414.599785807, 16159437.696604738, 12038798.653179359, 7457286.697545305, 82706854.4774285, 532248730.12524855, 15815711.44592794, 15707390.08517908, 104711555.12567985, 3281650.0137253557, 4113394.4382020608, 3977389.201710388, 39471469.88380708, 73071159.10240653, 22541063.806238767, 38653930.24237695, 26239434.651857413, 21216332.342135035, 47386417.22920331, 32982522.457891405, 61537188.73279811, 21036287.277275696, 191681929.24578807, 1631796.969475016, 5834585.222500457, 1547172.7548153482, 2694905.5124226687, 6589600.592335533, 150999858.95672, 2303910.379163854, 676221.8154527047, 2476988.9640041767, 2695921.946245476, 51271635.2871464, 773797769.8385807, 320460003.3641984, 2616557.4622087814, 846334171.6593463, 1804368.1843639766, 1628712.8987834603, 71255499.8565532, 34257926.52783014, 22529481.1373591, 7120345.989085421, 45350212.70161933, 455434.76508945227, 33654956.125048846, 30780400.574529134, 7124016.099573076, 9710572.63072835, 75931606.39433491, 64568822.9091492, 132769081.2404112, 35238108.28440775, 18662170.416379914, 8810042.912219021, 45232591.517114796, 72669378.92606246, 64213480.08221595, 24617070.71760553, 635867986.7718099, 13907060.954338403, 4658083.424651042, 255347705.7144611, 7252150.627907729, 67430385.21285555, 53470147.16483176, 40823377.513678804, 138290461.201644, 8595696.40568792, 4840013.165114024, 34560340.742217705, 1215623.7819326862, 255265225.5485121, 42486030.91454609, 29874638.518741835, 67697025.79766452, 15470005.894827355, 46380688.51368918, 16361578.358842725, 131535897.47478049, 98924025.77086644, 18247552.73451662, 15585773.920927659, 8008527.116937384, 533297525.40455896, 83497393.06971851, 593039372.953213, 27512600.163651228, 548385525.8135803, 11912096.934639467, 25634539.49036114, 113200371.94543093, 144043247.40619153, 237156834.67448628, 43703383.52849254, 84331782.0947926, 37224881.49677857, 24109420.126795407, 346403633.8491438, 241483831.63369, 35024936.38367079, 20119135.177443698, 16566986.4145208, 17904731.25982149, 355908290.71256614, 20163267.351932682, 626470.2220337901, 23995040.446936466, 422645196.6579697, 22063556.871659297, 18821680.949146006, 2588018.038549387, 34942959.23034633, 36316766.242348984, 68619976.64904298, 20584403.897053316, 68830573.74584067, 17545517.354267538, 8131799.816672057, 183908299.7626257, 63295419.970708914, 30254227.454906918, 9769540.611920454, 1059196174.4771032, 629630.6390446275, 1816096.2669373602, 2276532.481796531, 213723132.34296516, 82216130.19478787, 27651208.825816125, 278092.7733108853, 13329187.965916505, 2143853.6565849762, 4507587.321477788, 18016966.755130224, 20534185.584542997, 746760217.8662517, 65282122.631824225, 6622734.067580044, 25906446.60495399, 64509978.046886966, 931348.0650444017, 1025154.2965411283, 8428560.79820387, 8133166.992948692, 319222880.40527993, 19455076.137400277, 211139154.57375374, 13933044.658710402, 30253403.815831363, 21993952.72422693, 488028957.4774439, 221546304.98953962, 19985658.979321428]\n",
      "97163574.12925872\n"
     ]
    }
   ],
   "source": [
    "use_models_revenue(play_data_bis, 'GBM')"
   ]
  }
 ],
 "metadata": {
  "kernelspec": {
   "display_name": "ada",
   "language": "python",
   "name": "python3"
  },
  "language_info": {
   "codemirror_mode": {
    "name": "ipython",
    "version": 3
   },
   "file_extension": ".py",
   "mimetype": "text/x-python",
   "name": "python",
   "nbconvert_exporter": "python",
   "pygments_lexer": "ipython3",
   "version": "3.8.8"
  }
 },
 "nbformat": 4,
 "nbformat_minor": 2
}
