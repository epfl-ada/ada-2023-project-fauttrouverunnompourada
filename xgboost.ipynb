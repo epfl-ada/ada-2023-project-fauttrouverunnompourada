{
 "cells": [
  {
   "cell_type": "code",
   "execution_count": 101,
   "metadata": {},
   "outputs": [],
   "source": [
    "import pandas as pd\n",
    "import xgboost as xgb\n",
    "from sklearn.model_selection import train_test_split\n",
    "from sklearn.metrics import mean_squared_error\n",
    "import math\n",
    "import numpy as np"
   ]
  },
  {
   "cell_type": "code",
   "execution_count": 102,
   "metadata": {},
   "outputs": [
    {
     "name": "stdout",
     "output_type": "stream",
     "text": [
      "['Unnamed: 0', 'Wiki ID', 'Freebase ID_x', 'Movie name', 'Release date_x', 'Revenue', 'Runtime', 'IMDb rating', 'Wins', 'Nominations', 'Release year_x', 'Languages', 'Genres', 'Countries', 'English Language-onehot', 'Tamil Language-onehot', 'Hindi Language-onehot', 'Malayalam Language-onehot', 'German Language-onehot', 'Japanese Language-onehot', 'Korean Language-onehot', 'Spanish Language-onehot', 'Italian Language-onehot', 'French Language-onehot', 'Standard Mandarin-onehot', 'Standard Cantonese-onehot', 'Bengali Language-onehot', 'Cantonese-onehot', 'Telugu language-onehot', 'Russian Language-onehot', 'Portuguese Language-onehot', 'Urdu Language-onehot', 'Arabic Language-onehot', 'Tagalog language-onehot', 'Swedish Language-onehot', 'United States of America-onehot', 'United Kingdom-onehot', 'India-onehot', 'Canada-onehot', 'Germany-onehot', 'Japan-onehot', 'South Korea-onehot', 'Argentina-onehot', 'France-onehot', 'United Kingodm-onehot', 'Spain-onehot', 'Ireland-onehot', 'Hong Kong-onehot', 'China-onehot', 'Russia-onehot', 'Australia-onehot', 'Italy-onehot', 'Mexico-onehot', 'New Zealand-onehot', 'Brazil-onehot', 'Belgium-onehot', 'Denmark-onehot', 'Sweden-onehot', 'Netherlands-onehot', 'Philippines-onehot', 'Thriller-onehot', 'Science Fiction-onehot', 'Horror-onehot', 'Adventure-onehot', 'Action-onehot', 'Drama-onehot', 'Comedy-onehot', 'Romance Film-onehot', 'Musical-onehot', 'Fantasy-onehot', 'Family Film-onehot', 'Crime Fiction-onehot', 'Indie-onehot', 'World cinema-onehot', 'Mystery-onehot', 'Black-and-white-onehot', 'Crime Thriller-onehot', 'Freebase ID_y', 'Release date_y', 'Character name_x', 'Actor DOB_x', 'Actor gender_x', 'Actor height_x', 'Actor ethnicity_x', 'Actor name_x', 'Actor age at release_x', 'Map ID_x', 'Character ID_x', 'Actor ID_x', 'Role_x', 'Year_x', 'Release year_y', 'Actor birth year_x', 'F-onehot_x', 'M-onehot_x', 'Clusters_x', 'Freebase ID', 'Release date', 'Character name_y', 'Actor DOB_y', 'Actor gender_y', 'Actor height_y', 'Actor ethnicity_y', 'Actor name_y', 'Actor age at release_y', 'Map ID_y', 'Character ID_y', 'Actor ID_y', 'Role_y', 'Year_y', 'Release year', 'Actor birth year_y', 'F-onehot_y', 'M-onehot_y', 'Clusters_y']\n"
     ]
    }
   ],
   "source": [
    "characters = pd.read_csv(\"../Clean data/clean_character_data.csv\")\n",
    "movies = pd.read_csv(\"../Clean data/clean_movie_data.csv\")\n",
    "inputs = pd.read_csv(\"../Clean data/inputs.csv\")\n",
    "\n",
    "column_names = list(inputs.columns)\n",
    "print(column_names)"
   ]
  },
  {
   "cell_type": "code",
   "execution_count": 111,
   "metadata": {},
   "outputs": [
    {
     "data": {
      "text/plain": [
       "0        7.364601\n",
       "2        7.379875\n",
       "5        7.686214\n",
       "10       5.397533\n",
       "11       6.970665\n",
       "           ...   \n",
       "18263    6.040569\n",
       "18266    8.964874\n",
       "18267    8.282590\n",
       "18276    8.853897\n",
       "18281    7.071962\n",
       "Name: Revenue, Length: 4844, dtype: float64"
      ]
     },
     "execution_count": 111,
     "metadata": {},
     "output_type": "execute_result"
    }
   ],
   "source": [
    "#Garder uniquement les features que l'on va utiliser \n",
    "# Peut être qu'on utilise ça 'IMDb rating', 'Wins', 'Nominations',\n",
    "inputs_cleaned= inputs[['Revenue', 'Runtime',  'Release year_x', 'English Language-onehot', 'Tamil Language-onehot', 'Hindi Language-onehot', 'Malayalam Language-onehot', 'German Language-onehot', 'Japanese Language-onehot', 'Korean Language-onehot', 'Spanish Language-onehot', 'Italian Language-onehot', 'French Language-onehot', 'Standard Mandarin-onehot', 'Standard Cantonese-onehot', 'Bengali Language-onehot', 'Cantonese-onehot', 'Telugu language-onehot', 'Russian Language-onehot', 'Portuguese Language-onehot', 'Urdu Language-onehot', 'Arabic Language-onehot', 'Tagalog language-onehot', 'Swedish Language-onehot', 'United States of America-onehot', 'United Kingdom-onehot', 'India-onehot', 'Canada-onehot', 'Germany-onehot', 'Japan-onehot', 'South Korea-onehot', 'Argentina-onehot', 'France-onehot', 'United Kingodm-onehot', 'Spain-onehot', 'Ireland-onehot', 'Hong Kong-onehot', 'China-onehot', 'Russia-onehot', 'Australia-onehot', 'Italy-onehot', 'Mexico-onehot', 'New Zealand-onehot', 'Brazil-onehot', 'Belgium-onehot', 'Denmark-onehot', 'Sweden-onehot', 'Netherlands-onehot', 'Philippines-onehot', 'Thriller-onehot', 'Science Fiction-onehot', 'Horror-onehot', 'Adventure-onehot', 'Action-onehot', 'Drama-onehot', 'Comedy-onehot', 'Romance Film-onehot', 'Musical-onehot', 'Fantasy-onehot', 'Family Film-onehot', 'Crime Fiction-onehot', 'Indie-onehot', 'World cinema-onehot', 'Mystery-onehot', 'Black-and-white-onehot', 'Crime Thriller-onehot', 'Actor height_x', 'Actor age at release_x', 'F-onehot_x', 'Actor height_y', 'Actor age at release_y', 'F-onehot_y']]\n",
    "inputs_cleaned = inputs_cleaned.dropna()\n",
    "#Mettre les revenus en logarithmique mais pas sur qu'on fasse ça\n",
    "inputs_cleaned[\"Revenue\"] = np.log10(inputs['Revenue'])\n",
    "inputs_cleaned[\"Revenue\"]"
   ]
  },
  {
   "cell_type": "code",
   "execution_count": 97,
   "metadata": {},
   "outputs": [],
   "source": [
    "#TEST pour voir si diminuer le nombre des features change quelque chose\n",
    "inputs_cleaned = inputs_cleaned[[\"Revenue\",'Runtime','Release year','Primary Actor age at release']]"
   ]
  },
  {
   "cell_type": "code",
   "execution_count": 112,
   "metadata": {},
   "outputs": [
    {
     "name": "stdout",
     "output_type": "stream",
     "text": [
      "mse 0.903306965071381\n",
      "Std 1.0771125732448288\n"
     ]
    }
   ],
   "source": [
    "# On mets les features dans X et les Revenus dans Y\n",
    "X = inputs_cleaned.drop('Revenue', axis=1)  # Features\n",
    "y = inputs_cleaned['Revenue']  # Target variable\n",
    "\n",
    "#Splitting du data\n",
    "X_train, X_test, y_train, y_test = train_test_split(X, y, test_size=0.2, random_state=42)\n",
    "\n",
    "#Fit le model\n",
    "model = xgb.XGBRegressor(objective='reg:squarederror')\n",
    "model.fit(X_train, y_train)\n",
    "\n",
    "#Des test pour voir si ça fonctionnes\n",
    "y_pred = model.predict(X_test)\n",
    "mse = mean_squared_error(y_test, y_pred)\n",
    "print(\"mse\",math.sqrt(mse))\n",
    "variance = y_test.std()\n",
    "print(\"Std\", variance)"
   ]
  },
  {
   "cell_type": "code",
   "execution_count": 99,
   "metadata": {},
   "outputs": [
    {
     "name": "stdout",
     "output_type": "stream",
     "text": [
      "6.19586\n",
      "7.970877\n",
      "7.0405097\n",
      "8.723306\n",
      "8.111265\n",
      "8.128713\n",
      "7.6760945\n",
      "8.046755\n",
      "8.250245\n",
      "7.5157757\n",
      "6.9777937\n",
      "7.7905073\n",
      "6.686413\n",
      "7.3147836\n",
      "8.129866\n",
      "7.3542714\n",
      "8.134911\n",
      "8.126074\n",
      "6.546028\n",
      "8.54825\n",
      "7.605305\n",
      "6.621642\n",
      "5.417147\n",
      "8.288813\n",
      "8.190514\n",
      "7.7172484\n",
      "6.0140743\n",
      "5.0593286\n",
      "7.9055805\n",
      "7.3550034\n",
      "7.556227\n",
      "7.143161\n",
      "7.6072574\n",
      "8.358439\n",
      "7.393347\n",
      "6.767843\n",
      "6.174884\n",
      "8.339433\n",
      "8.215553\n",
      "8.020191\n",
      "7.928767\n",
      "5.3437285\n",
      "8.382769\n",
      "8.347367\n",
      "8.015833\n",
      "7.8384337\n",
      "8.616517\n",
      "7.312259\n",
      "6.284432\n",
      "7.743581\n",
      "6.6424327\n",
      "7.7218738\n",
      "7.797047\n",
      "7.265251\n",
      "7.506384\n",
      "6.973168\n",
      "8.36659\n",
      "7.710731\n",
      "7.201526\n",
      "6.388555\n",
      "7.5718627\n",
      "7.689198\n",
      "7.4589305\n",
      "6.926328\n",
      "7.393529\n",
      "6.456599\n",
      "8.016608\n",
      "7.7538567\n",
      "7.3540206\n"
     ]
    }
   ],
   "source": [
    "for element in y_pred:\n",
    "    print(element)"
   ]
  },
  {
   "cell_type": "code",
   "execution_count": 100,
   "metadata": {},
   "outputs": [
    {
     "name": "stdout",
     "output_type": "stream",
     "text": [
      "7.95746365080208\n",
      "8.028605385598578\n",
      "7.382684227932023\n",
      "8.52212367767101\n",
      "7.99149674629179\n",
      "6.947361213830245\n",
      "7.30802302030645\n",
      "8.640531935730905\n",
      "7.25242803289006\n",
      "6.939847387277027\n",
      "4.464015448334903\n",
      "7.570541573260241\n",
      "6.434799257403802\n",
      "6.9087022033822265\n",
      "6.677782147114173\n",
      "7.7267892537380405\n",
      "7.254060280398518\n",
      "7.963330044253438\n",
      "8.064923053208828\n",
      "7.466428080606911\n",
      "8.06744043426585\n",
      "8.529585705474332\n",
      "7.786242470953514\n",
      "7.39287095109613\n",
      "7.51534240910984\n",
      "7.36108244481259\n",
      "4.182569343771263\n",
      "7.188752705183384\n",
      "7.669761144788209\n",
      "8.298698673742937\n",
      "8.538515960911903\n",
      "5.495778704685626\n",
      "6.205745645570014\n",
      "7.671164229273236\n",
      "8.400402968105096\n",
      "8.056128828575229\n",
      "3.049213232631098\n",
      "7.43763876081744\n",
      "8.24057207483624\n",
      "8.455955653170195\n",
      "6.57263477273383\n",
      "5.067431678293587\n",
      "5.636145900651357\n",
      "7.4141779367538945\n",
      "6.870857374632109\n",
      "7.718426486257907\n",
      "8.269075390293347\n",
      "7.130047972264228\n",
      "7.724803582642681\n",
      "8.024754322455387\n",
      "7.457791978893631\n",
      "8.253093955354109\n",
      "6.734261705851501\n",
      "7.6390921225115855\n",
      "8.050834136936626\n",
      "8.012079961108732\n",
      "8.263603639348418\n",
      "5.649240234956507\n",
      "8.017175642668844\n",
      "7.7808703924399465\n",
      "7.8866429776537545\n",
      "7.131809072792124\n",
      "7.709657978191779\n",
      "7.536905734648649\n",
      "6.1789273041603945\n",
      "6.150212529272601\n",
      "8.189539594078592\n",
      "7.8602401581534505\n",
      "8.279718821320266\n",
      "Highest value in test: 8.640531935730905\n",
      "Lowest value: 3.049213232631098\n",
      "Highest value in pred: 8.723306\n",
      "Lowest value: 5.0593286\n"
     ]
    }
   ],
   "source": [
    "for element in y_test:\n",
    "    print(element)\n",
    "\n",
    "max_value = np.max(y_test)\n",
    "min_value = np.min(y_test)\n",
    "\n",
    "print(\"Highest value in test:\", max_value)\n",
    "print(\"Lowest value:\", min_value)\n",
    "\n",
    "max_value = np.max(y_pred)\n",
    "min_value = np.min(y_pred)\n",
    "\n",
    "print(\"Highest value in pred:\", max_value)\n",
    "print(\"Lowest value:\", min_value)"
   ]
  }
 ],
 "metadata": {
  "kernelspec": {
   "display_name": "ada",
   "language": "python",
   "name": "python3"
  },
  "language_info": {
   "codemirror_mode": {
    "name": "ipython",
    "version": 3
   },
   "file_extension": ".py",
   "mimetype": "text/x-python",
   "name": "python",
   "nbconvert_exporter": "python",
   "pygments_lexer": "ipython3",
   "version": "3.9.18"
  }
 },
 "nbformat": 4,
 "nbformat_minor": 2
}
